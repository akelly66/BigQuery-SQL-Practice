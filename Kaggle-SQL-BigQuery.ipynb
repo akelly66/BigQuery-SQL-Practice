{
 "cells": [
  {
   "cell_type": "markdown",
   "metadata": {},
   "source": [
    "# SQL and BigQuery Practice Notebook\n",
    "\n",
    "The purpose of this notebook is to keep myself sharp when it comes to accessing APIs and examining BigQuery datasets."
   ]
  },
  {
   "cell_type": "code",
   "execution_count": 6,
   "metadata": {
    "ExecuteTime": {
     "end_time": "2020-09-14T02:07:52.144574Z",
     "start_time": "2020-09-14T02:07:49.634934Z"
    },
    "scrolled": false
   },
   "outputs": [],
   "source": [
    "from google.cloud import bigquery"
   ]
  },
  {
   "cell_type": "markdown",
   "metadata": {},
   "source": [
    "To begin, we'll need a Google Cloud developer account. I already have one, but in case you need one, you can start one <a href=\"https://console.cloud.google.com/\">here</a>. You'll also need to download <a href=\"https://cloud.google.com/sdk\">Cloud SDK</a>. Once you have access to your Google Cloud developer account, begin a new project, click on the hamburger menu in the upper left corner > IAM & Admin > Service Accounts, then create a service account. Name your project > Create > Continue. Click the name of the service account, and scroll down to Add Key, and create a new key. Choose the JSON option and download the key file into your local project folder. \n",
    "\n",
    "You'll need to provide your credentials from the key file to access the BigQuery database. You can set the credentials on the command line (<a href=\"https://cloud.google.com/docs/authentication/getting-started#auth-cloud-implicit-python\">instructions</a>) but I kept getting errors, so another option is to set it as I did in the cell below."
   ]
  },
  {
   "cell_type": "code",
   "execution_count": 22,
   "metadata": {
    "ExecuteTime": {
     "end_time": "2020-09-14T02:51:15.515531Z",
     "start_time": "2020-09-14T02:51:15.508802Z"
    }
   },
   "outputs": [
    {
     "name": "stdout",
     "output_type": "stream",
     "text": [
      "Credentials from environ: /Users/Allie/Documents/DS-Projects/SQL-BigQuery-Practice/Practice-Project-7d7e549fec37.json\n"
     ]
    }
   ],
   "source": [
    "import os\n",
    "os.environ['GOOGLE_APPLICATION_CREDENTIALS'] = \"/Users/Allie/Documents/DS-Projects/SQL-BigQuery-Practice/Practice-Project-7d7e549fec37.json\"\n",
    "\n",
    "print('Credentials from environ: {}'.format(\n",
    "    os.environ.get('GOOGLE_APPLICATION_CREDENTIALS')))"
   ]
  },
  {
   "cell_type": "code",
   "execution_count": 23,
   "metadata": {
    "ExecuteTime": {
     "end_time": "2020-09-14T02:51:20.349639Z",
     "start_time": "2020-09-14T02:51:20.324165Z"
    }
   },
   "outputs": [],
   "source": [
    "# Creating a client object\n",
    "client = bigquery.Client()"
   ]
  },
  {
   "cell_type": "markdown",
   "metadata": {},
   "source": [
    "This project will use a public dataset of Chicago Crime. We need to refer to the dataset and fetch it with an API request."
   ]
  },
  {
   "cell_type": "code",
   "execution_count": 32,
   "metadata": {
    "ExecuteTime": {
     "end_time": "2020-09-14T03:35:16.845132Z",
     "start_time": "2020-09-14T03:35:16.659971Z"
    }
   },
   "outputs": [],
   "source": [
    "# Reference to the dataset\n",
    "dataset_ref = client.dataset(\"chicago_crime\", project=\"bigquery-public-data\")\n",
    "\n",
    "# API request\n",
    "dataset = client.get_dataset(dataset_ref)"
   ]
  },
  {
   "cell_type": "markdown",
   "metadata": {},
   "source": [
    "Let's check out the tables:"
   ]
  },
  {
   "cell_type": "code",
   "execution_count": 33,
   "metadata": {
    "ExecuteTime": {
     "end_time": "2020-09-14T03:35:19.850879Z",
     "start_time": "2020-09-14T03:35:19.712743Z"
    }
   },
   "outputs": [
    {
     "name": "stdout",
     "output_type": "stream",
     "text": [
      "Num. of tables: 1\n",
      "crime\n"
     ]
    }
   ],
   "source": [
    "tables = list(client.list_tables(dataset))\n",
    "print(\"Num. of tables:\", len(tables))\n",
    "for table in tables:\n",
    "    print(table.table_id)"
   ]
  },
  {
   "cell_type": "markdown",
   "metadata": {},
   "source": [
    "We also need to fetch the tables from the dataset:"
   ]
  },
  {
   "cell_type": "code",
   "execution_count": 34,
   "metadata": {
    "ExecuteTime": {
     "end_time": "2020-09-14T03:35:27.815514Z",
     "start_time": "2020-09-14T03:35:27.673344Z"
    }
   },
   "outputs": [],
   "source": [
    "# Referecing the 'crime' table from the list above\n",
    "table_ref = dataset_ref.table(\"crime\")\n",
    "\n",
    "# API request\n",
    "table = client.get_table(table_ref)"
   ]
  },
  {
   "cell_type": "markdown",
   "metadata": {
    "ExecuteTime": {
     "end_time": "2020-09-14T03:30:58.988293Z",
     "start_time": "2020-09-14T03:30:58.980762Z"
    }
   },
   "source": [
    "Let's check out the schema of the table:"
   ]
  },
  {
   "cell_type": "code",
   "execution_count": 35,
   "metadata": {
    "ExecuteTime": {
     "end_time": "2020-09-14T03:35:30.398108Z",
     "start_time": "2020-09-14T03:35:30.375427Z"
    },
    "scrolled": true
   },
   "outputs": [
    {
     "data": {
      "text/plain": [
       "[SchemaField('unique_key', 'INTEGER', 'REQUIRED', 'Unique identifier for the record.', (), None),\n",
       " SchemaField('case_number', 'STRING', 'NULLABLE', 'The Chicago Police Department RD Number (Records Division Number), which is unique to the incident.', (), None),\n",
       " SchemaField('date', 'TIMESTAMP', 'NULLABLE', 'Date when the incident occurred. this is sometimes a best estimate.', (), None),\n",
       " SchemaField('block', 'STRING', 'NULLABLE', 'The partially redacted address where the incident occurred, placing it on the same block as the actual address.', (), None),\n",
       " SchemaField('iucr', 'STRING', 'NULLABLE', 'The Illinois Unifrom Crime Reporting code. This is directly linked to the Primary Type and Description. See the list of IUCR codes at https://data.cityofchicago.org/d/c7ck-438e.', (), None),\n",
       " SchemaField('primary_type', 'STRING', 'NULLABLE', 'The primary description of the IUCR code.', (), None),\n",
       " SchemaField('description', 'STRING', 'NULLABLE', 'The secondary description of the IUCR code, a subcategory of the primary description.', (), None),\n",
       " SchemaField('location_description', 'STRING', 'NULLABLE', 'Description of the location where the incident occurred.', (), None),\n",
       " SchemaField('arrest', 'BOOLEAN', 'NULLABLE', 'Indicates whether an arrest was made.', (), None),\n",
       " SchemaField('domestic', 'BOOLEAN', 'NULLABLE', 'Indicates whether the incident was domestic-related as defined by the Illinois Domestic Violence Act.', (), None),\n",
       " SchemaField('beat', 'INTEGER', 'NULLABLE', 'Indicates the beat where the incident occurred. A beat is the smallest police geographic area – each beat has a dedicated police beat car. Three to five beats make up a police sector, and three sectors make up a police district. The Chicago Police Department has 22 police districts. See the beats at https://data.cityofchicago.org/d/aerh-rz74.', (), None),\n",
       " SchemaField('district', 'INTEGER', 'NULLABLE', 'Indicates the police district where the incident occurred. See the districts at https://data.cityofchicago.org/d/fthy-xz3r.', (), None),\n",
       " SchemaField('ward', 'INTEGER', 'NULLABLE', 'The ward (City Council district) where the incident occurred. See the wards at https://data.cityofchicago.org/d/sp34-6z76.', (), None),\n",
       " SchemaField('community_area', 'INTEGER', 'NULLABLE', 'Indicates the community area where the incident occurred. Chicago has 77 community areas. See the community areas at https://data.cityofchicago.org/d/cauq-8yn6.', (), None),\n",
       " SchemaField('fbi_code', 'STRING', 'NULLABLE', \"Indicates the crime classification as outlined in the FBI's National Incident-Based Reporting System (NIBRS). See the Chicago Police Department listing of these classifications at http://gis.chicagopolice.org/clearmap_crime_sums/crime_types.html.\", (), None),\n",
       " SchemaField('x_coordinate', 'FLOAT', 'NULLABLE', 'The x coordinate of the location where the incident occurred in State Plane Illinois East NAD 1983 projection. This location is shifted from the actual location for partial redaction but falls on the same block.', (), None),\n",
       " SchemaField('y_coordinate', 'FLOAT', 'NULLABLE', 'The y coordinate of the location where the incident occurred in State Plane Illinois East NAD 1983 projection. This location is shifted from the actual location for partial redaction but falls on the same block.', (), None),\n",
       " SchemaField('year', 'INTEGER', 'NULLABLE', 'Year the incident occurred.', (), None),\n",
       " SchemaField('updated_on', 'TIMESTAMP', 'NULLABLE', 'Date and time the record was last updated.', (), None),\n",
       " SchemaField('latitude', 'FLOAT', 'NULLABLE', 'The latitude of the location where the incident occurred. This location is shifted from the actual location for partial redaction but falls on the same block.', (), None),\n",
       " SchemaField('longitude', 'FLOAT', 'NULLABLE', 'The longitude of the location where the incident occurred. This location is shifted from the actual location for partial redaction but falls on the same block.', (), None),\n",
       " SchemaField('location', 'STRING', 'NULLABLE', 'The location where the incident occurred in a format that allows for creation of maps and other geographic operations on this data portal. This location is shifted from the actual location for partial redaction but falls on the same block.', (), None)]"
      ]
     },
     "execution_count": 35,
     "metadata": {},
     "output_type": "execute_result"
    }
   ],
   "source": [
    "table.schema"
   ]
  },
  {
   "cell_type": "markdown",
   "metadata": {},
   "source": [
    "The schema includes the name of the field, the datatype, mode which signifies whether the column allows null values, and a short description of the contents. \n",
    "\n",
    "We can look at the first few rows of the table in a dataframe."
   ]
  },
  {
   "cell_type": "code",
   "execution_count": 36,
   "metadata": {
    "ExecuteTime": {
     "end_time": "2020-09-14T03:35:37.307239Z",
     "start_time": "2020-09-14T03:35:36.937947Z"
    }
   },
   "outputs": [
    {
     "name": "stderr",
     "output_type": "stream",
     "text": [
      "/Users/Allie/opt/anaconda3/lib/python3.7/site-packages/ipykernel_launcher.py:1: UserWarning: Cannot use bqstorage_client if max_results is set, reverting to fetching data with the tabledata.list endpoint.\n",
      "  \"\"\"Entry point for launching an IPython kernel.\n",
      "/Users/Allie/opt/anaconda3/lib/python3.7/site-packages/ipykernel_launcher.py:1: PyarrowMissingWarning: Converting to a dataframe without pyarrow installed is often slower and will become unsupported in the future. Please install the pyarrow package.\n",
      "  \"\"\"Entry point for launching an IPython kernel.\n"
     ]
    },
    {
     "data": {
      "text/html": [
       "<div>\n",
       "<style scoped>\n",
       "    .dataframe tbody tr th:only-of-type {\n",
       "        vertical-align: middle;\n",
       "    }\n",
       "\n",
       "    .dataframe tbody tr th {\n",
       "        vertical-align: top;\n",
       "    }\n",
       "\n",
       "    .dataframe thead th {\n",
       "        text-align: right;\n",
       "    }\n",
       "</style>\n",
       "<table border=\"1\" class=\"dataframe\">\n",
       "  <thead>\n",
       "    <tr style=\"text-align: right;\">\n",
       "      <th></th>\n",
       "      <th>unique_key</th>\n",
       "      <th>case_number</th>\n",
       "      <th>date</th>\n",
       "      <th>block</th>\n",
       "      <th>iucr</th>\n",
       "      <th>primary_type</th>\n",
       "      <th>description</th>\n",
       "      <th>location_description</th>\n",
       "      <th>arrest</th>\n",
       "      <th>domestic</th>\n",
       "      <th>...</th>\n",
       "      <th>ward</th>\n",
       "      <th>community_area</th>\n",
       "      <th>fbi_code</th>\n",
       "      <th>x_coordinate</th>\n",
       "      <th>y_coordinate</th>\n",
       "      <th>year</th>\n",
       "      <th>updated_on</th>\n",
       "      <th>latitude</th>\n",
       "      <th>longitude</th>\n",
       "      <th>location</th>\n",
       "    </tr>\n",
       "  </thead>\n",
       "  <tbody>\n",
       "    <tr>\n",
       "      <th>0</th>\n",
       "      <td>10806370</td>\n",
       "      <td>JA105318</td>\n",
       "      <td>2014-11-01 00:00:00+00:00</td>\n",
       "      <td>037XX W 103RD ST</td>\n",
       "      <td>1153</td>\n",
       "      <td>DECEPTIVE PRACTICE</td>\n",
       "      <td>FINANCIAL IDENTITY THEFT OVER $ 300</td>\n",
       "      <td>RESIDENCE</td>\n",
       "      <td>False</td>\n",
       "      <td>False</td>\n",
       "      <td>...</td>\n",
       "      <td>19</td>\n",
       "      <td>74</td>\n",
       "      <td>11</td>\n",
       "      <td>NaN</td>\n",
       "      <td>NaN</td>\n",
       "      <td>2014</td>\n",
       "      <td>2017-01-06 15:55:08+00:00</td>\n",
       "      <td>NaN</td>\n",
       "      <td>NaN</td>\n",
       "      <td>None</td>\n",
       "    </tr>\n",
       "    <tr>\n",
       "      <th>1</th>\n",
       "      <td>11218186</td>\n",
       "      <td>JB134850</td>\n",
       "      <td>2017-09-13 00:01:00+00:00</td>\n",
       "      <td>054XX S WENTWORTH AVE</td>\n",
       "      <td>1152</td>\n",
       "      <td>DECEPTIVE PRACTICE</td>\n",
       "      <td>ILLEGAL USE CASH CARD</td>\n",
       "      <td>ATM (AUTOMATIC TELLER MACHINE)</td>\n",
       "      <td>False</td>\n",
       "      <td>False</td>\n",
       "      <td>...</td>\n",
       "      <td>3</td>\n",
       "      <td>37</td>\n",
       "      <td>11</td>\n",
       "      <td>NaN</td>\n",
       "      <td>NaN</td>\n",
       "      <td>2017</td>\n",
       "      <td>2018-01-31 15:55:34+00:00</td>\n",
       "      <td>NaN</td>\n",
       "      <td>NaN</td>\n",
       "      <td>None</td>\n",
       "    </tr>\n",
       "    <tr>\n",
       "      <th>2</th>\n",
       "      <td>5335062</td>\n",
       "      <td>HN193418</td>\n",
       "      <td>2004-03-01 00:01:00+00:00</td>\n",
       "      <td>034XX W 115TH ST</td>\n",
       "      <td>1754</td>\n",
       "      <td>OFFENSE INVOLVING CHILDREN</td>\n",
       "      <td>AGG SEX ASSLT OF CHILD FAM MBR</td>\n",
       "      <td>RESIDENCE</td>\n",
       "      <td>False</td>\n",
       "      <td>True</td>\n",
       "      <td>...</td>\n",
       "      <td>19</td>\n",
       "      <td>74</td>\n",
       "      <td>02</td>\n",
       "      <td>NaN</td>\n",
       "      <td>NaN</td>\n",
       "      <td>2004</td>\n",
       "      <td>2015-08-17 15:03:40+00:00</td>\n",
       "      <td>NaN</td>\n",
       "      <td>NaN</td>\n",
       "      <td>None</td>\n",
       "    </tr>\n",
       "    <tr>\n",
       "      <th>3</th>\n",
       "      <td>11704073</td>\n",
       "      <td>JC283535</td>\n",
       "      <td>2018-06-14 10:00:00+00:00</td>\n",
       "      <td>063XX W HUNTINGTON ST</td>\n",
       "      <td>1153</td>\n",
       "      <td>DECEPTIVE PRACTICE</td>\n",
       "      <td>FINANCIAL IDENTITY THEFT OVER $ 300</td>\n",
       "      <td>APARTMENT</td>\n",
       "      <td>False</td>\n",
       "      <td>False</td>\n",
       "      <td>...</td>\n",
       "      <td>39</td>\n",
       "      <td>10</td>\n",
       "      <td>11</td>\n",
       "      <td>NaN</td>\n",
       "      <td>NaN</td>\n",
       "      <td>2018</td>\n",
       "      <td>2019-05-30 16:12:42+00:00</td>\n",
       "      <td>NaN</td>\n",
       "      <td>NaN</td>\n",
       "      <td>None</td>\n",
       "    </tr>\n",
       "    <tr>\n",
       "      <th>4</th>\n",
       "      <td>11720189</td>\n",
       "      <td>JC302155</td>\n",
       "      <td>2019-06-11 17:45:00+00:00</td>\n",
       "      <td>054XX S WENTWORTH AVE</td>\n",
       "      <td>0530</td>\n",
       "      <td>ASSAULT</td>\n",
       "      <td>AGGRAVATED: OTHER DANG WEAPON</td>\n",
       "      <td>GROCERY FOOD STORE</td>\n",
       "      <td>False</td>\n",
       "      <td>False</td>\n",
       "      <td>...</td>\n",
       "      <td>3</td>\n",
       "      <td>37</td>\n",
       "      <td>04A</td>\n",
       "      <td>1175887.0</td>\n",
       "      <td>1869033.0</td>\n",
       "      <td>2019</td>\n",
       "      <td>2019-06-30 15:56:27+00:00</td>\n",
       "      <td>41.795991</td>\n",
       "      <td>-87.630542</td>\n",
       "      <td>(41.795991039, -87.630542489)</td>\n",
       "    </tr>\n",
       "  </tbody>\n",
       "</table>\n",
       "<p>5 rows × 22 columns</p>\n",
       "</div>"
      ],
      "text/plain": [
       "   unique_key case_number                      date                  block  \\\n",
       "0    10806370    JA105318 2014-11-01 00:00:00+00:00       037XX W 103RD ST   \n",
       "1    11218186    JB134850 2017-09-13 00:01:00+00:00  054XX S WENTWORTH AVE   \n",
       "2     5335062    HN193418 2004-03-01 00:01:00+00:00       034XX W 115TH ST   \n",
       "3    11704073    JC283535 2018-06-14 10:00:00+00:00  063XX W HUNTINGTON ST   \n",
       "4    11720189    JC302155 2019-06-11 17:45:00+00:00  054XX S WENTWORTH AVE   \n",
       "\n",
       "   iucr                primary_type                          description  \\\n",
       "0  1153          DECEPTIVE PRACTICE  FINANCIAL IDENTITY THEFT OVER $ 300   \n",
       "1  1152          DECEPTIVE PRACTICE                ILLEGAL USE CASH CARD   \n",
       "2  1754  OFFENSE INVOLVING CHILDREN       AGG SEX ASSLT OF CHILD FAM MBR   \n",
       "3  1153          DECEPTIVE PRACTICE  FINANCIAL IDENTITY THEFT OVER $ 300   \n",
       "4  0530                     ASSAULT        AGGRAVATED: OTHER DANG WEAPON   \n",
       "\n",
       "             location_description  arrest  domestic  ...  ward  \\\n",
       "0                       RESIDENCE   False     False  ...    19   \n",
       "1  ATM (AUTOMATIC TELLER MACHINE)   False     False  ...     3   \n",
       "2                       RESIDENCE   False      True  ...    19   \n",
       "3                       APARTMENT   False     False  ...    39   \n",
       "4              GROCERY FOOD STORE   False     False  ...     3   \n",
       "\n",
       "   community_area  fbi_code  x_coordinate y_coordinate  year  \\\n",
       "0              74        11           NaN          NaN  2014   \n",
       "1              37        11           NaN          NaN  2017   \n",
       "2              74        02           NaN          NaN  2004   \n",
       "3              10        11           NaN          NaN  2018   \n",
       "4              37       04A     1175887.0    1869033.0  2019   \n",
       "\n",
       "                 updated_on   latitude  longitude  \\\n",
       "0 2017-01-06 15:55:08+00:00        NaN        NaN   \n",
       "1 2018-01-31 15:55:34+00:00        NaN        NaN   \n",
       "2 2015-08-17 15:03:40+00:00        NaN        NaN   \n",
       "3 2019-05-30 16:12:42+00:00        NaN        NaN   \n",
       "4 2019-06-30 15:56:27+00:00  41.795991 -87.630542   \n",
       "\n",
       "                        location  \n",
       "0                           None  \n",
       "1                           None  \n",
       "2                           None  \n",
       "3                           None  \n",
       "4  (41.795991039, -87.630542489)  \n",
       "\n",
       "[5 rows x 22 columns]"
      ]
     },
     "execution_count": 36,
     "metadata": {},
     "output_type": "execute_result"
    }
   ],
   "source": [
    "client.list_rows(table, max_results=5).to_dataframe()"
   ]
  },
  {
   "cell_type": "code",
   "execution_count": null,
   "metadata": {},
   "outputs": [],
   "source": [
    "# create map of where crimes are located"
   ]
  }
 ],
 "metadata": {
  "kernelspec": {
   "display_name": "Python [conda env:anaconda3]",
   "language": "python",
   "name": "conda-env-anaconda3-py"
  },
  "language_info": {
   "codemirror_mode": {
    "name": "ipython",
    "version": 3
   },
   "file_extension": ".py",
   "mimetype": "text/x-python",
   "name": "python",
   "nbconvert_exporter": "python",
   "pygments_lexer": "ipython3",
   "version": "3.7.6"
  },
  "toc": {
   "base_numbering": 1,
   "nav_menu": {},
   "number_sections": true,
   "sideBar": true,
   "skip_h1_title": false,
   "title_cell": "Table of Contents",
   "title_sidebar": "Contents",
   "toc_cell": false,
   "toc_position": {},
   "toc_section_display": true,
   "toc_window_display": false
  }
 },
 "nbformat": 4,
 "nbformat_minor": 2
}
