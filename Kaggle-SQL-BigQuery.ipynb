{
 "cells": [
  {
   "cell_type": "markdown",
   "metadata": {},
   "source": [
    "# SQL and BigQuery Practice Notebook\n",
    "\n",
    "The purpose of this notebook is to keep myself sharp when it comes to accessing APIs and examining BigQuery datasets."
   ]
  },
  {
   "cell_type": "markdown",
   "metadata": {},
   "source": [
    "# Connecting to the API"
   ]
  },
  {
   "cell_type": "code",
   "execution_count": 1,
   "metadata": {
    "ExecuteTime": {
     "end_time": "2020-09-14T20:13:55.456754Z",
     "start_time": "2020-09-14T20:13:52.895473Z"
    },
    "scrolled": false
   },
   "outputs": [],
   "source": [
    "from google.cloud import bigquery"
   ]
  },
  {
   "cell_type": "markdown",
   "metadata": {},
   "source": [
    "To begin, we'll need a Google Cloud developer account. I already have one, but in case you need one, you can start one <a href=\"https://console.cloud.google.com/\">here</a>. You'll also need to download <a href=\"https://cloud.google.com/sdk\">Cloud SDK</a>. Once you have access to your Google Cloud developer account, begin a new project, click on the hamburger menu in the upper left corner > IAM & Admin > Service Accounts, then create a service account. Name your project > Create > Continue. Click the name of the service account, and scroll down to Add Key, and create a new key. Choose the JSON option and download the key file into your local project folder. \n",
    "\n",
    "You'll need to provide your credentials from the key file to access the BigQuery database. You can set the credentials on the command line (<a href=\"https://cloud.google.com/docs/authentication/getting-started#auth-cloud-implicit-python\">instructions</a>) but I kept getting errors, so another option is to set it as I did in the cell below."
   ]
  },
  {
   "cell_type": "code",
   "execution_count": 4,
   "metadata": {
    "ExecuteTime": {
     "end_time": "2020-09-14T20:14:34.233716Z",
     "start_time": "2020-09-14T20:14:34.224325Z"
    }
   },
   "outputs": [
    {
     "name": "stdout",
     "output_type": "stream",
     "text": [
      "Credentials from environ: Practice-Project-7d7e549fec37.json\n"
     ]
    }
   ],
   "source": [
    "import os\n",
    "os.environ['GOOGLE_APPLICATION_CREDENTIALS'] = \"Practice-Project-7d7e549fec37.json\"\n",
    "\n",
    "print('Credentials from environ: {}'.format(\n",
    "    os.environ.get('GOOGLE_APPLICATION_CREDENTIALS')))"
   ]
  },
  {
   "cell_type": "code",
   "execution_count": 5,
   "metadata": {
    "ExecuteTime": {
     "end_time": "2020-09-14T20:14:35.245295Z",
     "start_time": "2020-09-14T20:14:35.230265Z"
    }
   },
   "outputs": [],
   "source": [
    "# Creating a client object\n",
    "client = bigquery.Client()"
   ]
  },
  {
   "cell_type": "markdown",
   "metadata": {},
   "source": [
    "This project will use a public dataset of Chicago Crime. We need to refer to the dataset and fetch it with an API request."
   ]
  },
  {
   "cell_type": "code",
   "execution_count": 6,
   "metadata": {
    "ExecuteTime": {
     "end_time": "2020-09-14T20:14:40.143766Z",
     "start_time": "2020-09-14T20:14:39.603789Z"
    }
   },
   "outputs": [],
   "source": [
    "# Reference to the dataset\n",
    "dataset_ref = client.dataset(\"chicago_crime\", project=\"bigquery-public-data\")\n",
    "\n",
    "# API request\n",
    "dataset = client.get_dataset(dataset_ref)"
   ]
  },
  {
   "cell_type": "markdown",
   "metadata": {},
   "source": [
    "Let's check out the tables:"
   ]
  },
  {
   "cell_type": "code",
   "execution_count": 7,
   "metadata": {
    "ExecuteTime": {
     "end_time": "2020-09-14T20:14:41.411454Z",
     "start_time": "2020-09-14T20:14:41.257129Z"
    }
   },
   "outputs": [
    {
     "name": "stdout",
     "output_type": "stream",
     "text": [
      "Num. of tables: 1\n",
      "crime\n"
     ]
    }
   ],
   "source": [
    "tables = list(client.list_tables(dataset))\n",
    "print(\"Num. of tables:\", len(tables))\n",
    "for table in tables:\n",
    "    print(table.table_id)"
   ]
  },
  {
   "cell_type": "markdown",
   "metadata": {},
   "source": [
    "We also need to fetch the tables from the dataset:"
   ]
  },
  {
   "cell_type": "code",
   "execution_count": 8,
   "metadata": {
    "ExecuteTime": {
     "end_time": "2020-09-14T20:14:42.888319Z",
     "start_time": "2020-09-14T20:14:42.748377Z"
    }
   },
   "outputs": [],
   "source": [
    "# Referecing the 'crime' table from the list above\n",
    "table_ref = dataset_ref.table(\"crime\")\n",
    "\n",
    "# API request\n",
    "table = client.get_table(table_ref)"
   ]
  },
  {
   "cell_type": "markdown",
   "metadata": {
    "ExecuteTime": {
     "end_time": "2020-09-14T03:30:58.988293Z",
     "start_time": "2020-09-14T03:30:58.980762Z"
    }
   },
   "source": [
    "Let's check out the schema of the table:"
   ]
  },
  {
   "cell_type": "code",
   "execution_count": 9,
   "metadata": {
    "ExecuteTime": {
     "end_time": "2020-09-14T20:14:43.865155Z",
     "start_time": "2020-09-14T20:14:43.839844Z"
    },
    "scrolled": true
   },
   "outputs": [
    {
     "data": {
      "text/plain": [
       "[SchemaField('unique_key', 'INTEGER', 'REQUIRED', 'Unique identifier for the record.', (), None),\n",
       " SchemaField('case_number', 'STRING', 'NULLABLE', 'The Chicago Police Department RD Number (Records Division Number), which is unique to the incident.', (), None),\n",
       " SchemaField('date', 'TIMESTAMP', 'NULLABLE', 'Date when the incident occurred. this is sometimes a best estimate.', (), None),\n",
       " SchemaField('block', 'STRING', 'NULLABLE', 'The partially redacted address where the incident occurred, placing it on the same block as the actual address.', (), None),\n",
       " SchemaField('iucr', 'STRING', 'NULLABLE', 'The Illinois Unifrom Crime Reporting code. This is directly linked to the Primary Type and Description. See the list of IUCR codes at https://data.cityofchicago.org/d/c7ck-438e.', (), None),\n",
       " SchemaField('primary_type', 'STRING', 'NULLABLE', 'The primary description of the IUCR code.', (), None),\n",
       " SchemaField('description', 'STRING', 'NULLABLE', 'The secondary description of the IUCR code, a subcategory of the primary description.', (), None),\n",
       " SchemaField('location_description', 'STRING', 'NULLABLE', 'Description of the location where the incident occurred.', (), None),\n",
       " SchemaField('arrest', 'BOOLEAN', 'NULLABLE', 'Indicates whether an arrest was made.', (), None),\n",
       " SchemaField('domestic', 'BOOLEAN', 'NULLABLE', 'Indicates whether the incident was domestic-related as defined by the Illinois Domestic Violence Act.', (), None),\n",
       " SchemaField('beat', 'INTEGER', 'NULLABLE', 'Indicates the beat where the incident occurred. A beat is the smallest police geographic area – each beat has a dedicated police beat car. Three to five beats make up a police sector, and three sectors make up a police district. The Chicago Police Department has 22 police districts. See the beats at https://data.cityofchicago.org/d/aerh-rz74.', (), None),\n",
       " SchemaField('district', 'INTEGER', 'NULLABLE', 'Indicates the police district where the incident occurred. See the districts at https://data.cityofchicago.org/d/fthy-xz3r.', (), None),\n",
       " SchemaField('ward', 'INTEGER', 'NULLABLE', 'The ward (City Council district) where the incident occurred. See the wards at https://data.cityofchicago.org/d/sp34-6z76.', (), None),\n",
       " SchemaField('community_area', 'INTEGER', 'NULLABLE', 'Indicates the community area where the incident occurred. Chicago has 77 community areas. See the community areas at https://data.cityofchicago.org/d/cauq-8yn6.', (), None),\n",
       " SchemaField('fbi_code', 'STRING', 'NULLABLE', \"Indicates the crime classification as outlined in the FBI's National Incident-Based Reporting System (NIBRS). See the Chicago Police Department listing of these classifications at http://gis.chicagopolice.org/clearmap_crime_sums/crime_types.html.\", (), None),\n",
       " SchemaField('x_coordinate', 'FLOAT', 'NULLABLE', 'The x coordinate of the location where the incident occurred in State Plane Illinois East NAD 1983 projection. This location is shifted from the actual location for partial redaction but falls on the same block.', (), None),\n",
       " SchemaField('y_coordinate', 'FLOAT', 'NULLABLE', 'The y coordinate of the location where the incident occurred in State Plane Illinois East NAD 1983 projection. This location is shifted from the actual location for partial redaction but falls on the same block.', (), None),\n",
       " SchemaField('year', 'INTEGER', 'NULLABLE', 'Year the incident occurred.', (), None),\n",
       " SchemaField('updated_on', 'TIMESTAMP', 'NULLABLE', 'Date and time the record was last updated.', (), None),\n",
       " SchemaField('latitude', 'FLOAT', 'NULLABLE', 'The latitude of the location where the incident occurred. This location is shifted from the actual location for partial redaction but falls on the same block.', (), None),\n",
       " SchemaField('longitude', 'FLOAT', 'NULLABLE', 'The longitude of the location where the incident occurred. This location is shifted from the actual location for partial redaction but falls on the same block.', (), None),\n",
       " SchemaField('location', 'STRING', 'NULLABLE', 'The location where the incident occurred in a format that allows for creation of maps and other geographic operations on this data portal. This location is shifted from the actual location for partial redaction but falls on the same block.', (), None)]"
      ]
     },
     "execution_count": 9,
     "metadata": {},
     "output_type": "execute_result"
    }
   ],
   "source": [
    "table.schema"
   ]
  },
  {
   "cell_type": "markdown",
   "metadata": {},
   "source": [
    "The schema includes the name of the field, the datatype, mode which signifies whether the column allows null values, and a short description of the contents. \n",
    "\n",
    "We can look at the first few rows of the table in a dataframe."
   ]
  },
  {
   "cell_type": "code",
   "execution_count": 10,
   "metadata": {
    "ExecuteTime": {
     "end_time": "2020-09-14T20:14:46.189955Z",
     "start_time": "2020-09-14T20:14:45.200967Z"
    }
   },
   "outputs": [
    {
     "name": "stderr",
     "output_type": "stream",
     "text": [
      "/Users/Allie/opt/anaconda3/lib/python3.7/site-packages/ipykernel_launcher.py:1: UserWarning: Cannot use bqstorage_client if max_results is set, reverting to fetching data with the tabledata.list endpoint.\n",
      "  \"\"\"Entry point for launching an IPython kernel.\n",
      "/Users/Allie/opt/anaconda3/lib/python3.7/site-packages/ipykernel_launcher.py:1: PyarrowMissingWarning: Converting to a dataframe without pyarrow installed is often slower and will become unsupported in the future. Please install the pyarrow package.\n",
      "  \"\"\"Entry point for launching an IPython kernel.\n"
     ]
    },
    {
     "data": {
      "text/html": [
       "<div>\n",
       "<style scoped>\n",
       "    .dataframe tbody tr th:only-of-type {\n",
       "        vertical-align: middle;\n",
       "    }\n",
       "\n",
       "    .dataframe tbody tr th {\n",
       "        vertical-align: top;\n",
       "    }\n",
       "\n",
       "    .dataframe thead th {\n",
       "        text-align: right;\n",
       "    }\n",
       "</style>\n",
       "<table border=\"1\" class=\"dataframe\">\n",
       "  <thead>\n",
       "    <tr style=\"text-align: right;\">\n",
       "      <th></th>\n",
       "      <th>unique_key</th>\n",
       "      <th>case_number</th>\n",
       "      <th>date</th>\n",
       "      <th>block</th>\n",
       "      <th>iucr</th>\n",
       "      <th>primary_type</th>\n",
       "      <th>description</th>\n",
       "      <th>location_description</th>\n",
       "      <th>arrest</th>\n",
       "      <th>domestic</th>\n",
       "      <th>...</th>\n",
       "      <th>ward</th>\n",
       "      <th>community_area</th>\n",
       "      <th>fbi_code</th>\n",
       "      <th>x_coordinate</th>\n",
       "      <th>y_coordinate</th>\n",
       "      <th>year</th>\n",
       "      <th>updated_on</th>\n",
       "      <th>latitude</th>\n",
       "      <th>longitude</th>\n",
       "      <th>location</th>\n",
       "    </tr>\n",
       "  </thead>\n",
       "  <tbody>\n",
       "    <tr>\n",
       "      <th>0</th>\n",
       "      <td>11039565</td>\n",
       "      <td>JA373932</td>\n",
       "      <td>2015-07-15 09:00:00+00:00</td>\n",
       "      <td>017XX W 101ST ST</td>\n",
       "      <td>1153</td>\n",
       "      <td>DECEPTIVE PRACTICE</td>\n",
       "      <td>FINANCIAL IDENTITY THEFT OVER $ 300</td>\n",
       "      <td>RESIDENCE</td>\n",
       "      <td>False</td>\n",
       "      <td>False</td>\n",
       "      <td>...</td>\n",
       "      <td>19</td>\n",
       "      <td>72</td>\n",
       "      <td>11</td>\n",
       "      <td>None</td>\n",
       "      <td>None</td>\n",
       "      <td>2015</td>\n",
       "      <td>2017-08-03 15:52:36+00:00</td>\n",
       "      <td>None</td>\n",
       "      <td>None</td>\n",
       "      <td>None</td>\n",
       "    </tr>\n",
       "    <tr>\n",
       "      <th>1</th>\n",
       "      <td>7095150</td>\n",
       "      <td>HR502214</td>\n",
       "      <td>2004-01-10 00:10:00+00:00</td>\n",
       "      <td>054XX W 64TH ST</td>\n",
       "      <td>0265</td>\n",
       "      <td>CRIM SEXUAL ASSAULT</td>\n",
       "      <td>AGGRAVATED: OTHER</td>\n",
       "      <td>RESIDENCE</td>\n",
       "      <td>False</td>\n",
       "      <td>False</td>\n",
       "      <td>...</td>\n",
       "      <td>13</td>\n",
       "      <td>64</td>\n",
       "      <td>02</td>\n",
       "      <td>None</td>\n",
       "      <td>None</td>\n",
       "      <td>2004</td>\n",
       "      <td>2015-08-17 15:03:40+00:00</td>\n",
       "      <td>None</td>\n",
       "      <td>None</td>\n",
       "      <td>None</td>\n",
       "    </tr>\n",
       "    <tr>\n",
       "      <th>2</th>\n",
       "      <td>6040605</td>\n",
       "      <td>HP143176</td>\n",
       "      <td>2006-03-17 14:00:00+00:00</td>\n",
       "      <td>094XX S WESTERN AVE</td>\n",
       "      <td>1110</td>\n",
       "      <td>DECEPTIVE PRACTICE</td>\n",
       "      <td>BOGUS CHECK</td>\n",
       "      <td>COMMERCIAL / BUSINESS OFFICE</td>\n",
       "      <td>False</td>\n",
       "      <td>False</td>\n",
       "      <td>...</td>\n",
       "      <td>19</td>\n",
       "      <td>72</td>\n",
       "      <td>11</td>\n",
       "      <td>None</td>\n",
       "      <td>None</td>\n",
       "      <td>2006</td>\n",
       "      <td>2015-08-17 15:03:40+00:00</td>\n",
       "      <td>None</td>\n",
       "      <td>None</td>\n",
       "      <td>None</td>\n",
       "    </tr>\n",
       "    <tr>\n",
       "      <th>3</th>\n",
       "      <td>6365688</td>\n",
       "      <td>HP450101</td>\n",
       "      <td>2008-07-09 18:08:00+00:00</td>\n",
       "      <td>068XX N NORTHWEST HWY</td>\n",
       "      <td>2826</td>\n",
       "      <td>OTHER OFFENSE</td>\n",
       "      <td>HARASSMENT BY ELECTRONIC MEANS</td>\n",
       "      <td>RESIDENCE</td>\n",
       "      <td>False</td>\n",
       "      <td>False</td>\n",
       "      <td>...</td>\n",
       "      <td>41</td>\n",
       "      <td>9</td>\n",
       "      <td>26</td>\n",
       "      <td>None</td>\n",
       "      <td>None</td>\n",
       "      <td>2008</td>\n",
       "      <td>2016-04-15 11:16:05+00:00</td>\n",
       "      <td>None</td>\n",
       "      <td>None</td>\n",
       "      <td>None</td>\n",
       "    </tr>\n",
       "    <tr>\n",
       "      <th>4</th>\n",
       "      <td>9784689</td>\n",
       "      <td>HX433464</td>\n",
       "      <td>2007-01-01 00:00:00+00:00</td>\n",
       "      <td>096XX S LONGWOOD DR</td>\n",
       "      <td>1754</td>\n",
       "      <td>OFFENSE INVOLVING CHILDREN</td>\n",
       "      <td>AGG SEX ASSLT OF CHILD FAM MBR</td>\n",
       "      <td>RESIDENCE</td>\n",
       "      <td>False</td>\n",
       "      <td>False</td>\n",
       "      <td>...</td>\n",
       "      <td>19</td>\n",
       "      <td>72</td>\n",
       "      <td>02</td>\n",
       "      <td>None</td>\n",
       "      <td>None</td>\n",
       "      <td>2007</td>\n",
       "      <td>2015-08-31 15:43:09+00:00</td>\n",
       "      <td>None</td>\n",
       "      <td>None</td>\n",
       "      <td>None</td>\n",
       "    </tr>\n",
       "  </tbody>\n",
       "</table>\n",
       "<p>5 rows × 22 columns</p>\n",
       "</div>"
      ],
      "text/plain": [
       "   unique_key case_number                      date                  block  \\\n",
       "0    11039565    JA373932 2015-07-15 09:00:00+00:00       017XX W 101ST ST   \n",
       "1     7095150    HR502214 2004-01-10 00:10:00+00:00        054XX W 64TH ST   \n",
       "2     6040605    HP143176 2006-03-17 14:00:00+00:00    094XX S WESTERN AVE   \n",
       "3     6365688    HP450101 2008-07-09 18:08:00+00:00  068XX N NORTHWEST HWY   \n",
       "4     9784689    HX433464 2007-01-01 00:00:00+00:00    096XX S LONGWOOD DR   \n",
       "\n",
       "   iucr                primary_type                          description  \\\n",
       "0  1153          DECEPTIVE PRACTICE  FINANCIAL IDENTITY THEFT OVER $ 300   \n",
       "1  0265         CRIM SEXUAL ASSAULT                    AGGRAVATED: OTHER   \n",
       "2  1110          DECEPTIVE PRACTICE                          BOGUS CHECK   \n",
       "3  2826               OTHER OFFENSE       HARASSMENT BY ELECTRONIC MEANS   \n",
       "4  1754  OFFENSE INVOLVING CHILDREN       AGG SEX ASSLT OF CHILD FAM MBR   \n",
       "\n",
       "           location_description  arrest  domestic  ...  ward  community_area  \\\n",
       "0                     RESIDENCE   False     False  ...    19              72   \n",
       "1                     RESIDENCE   False     False  ...    13              64   \n",
       "2  COMMERCIAL / BUSINESS OFFICE   False     False  ...    19              72   \n",
       "3                     RESIDENCE   False     False  ...    41               9   \n",
       "4                     RESIDENCE   False     False  ...    19              72   \n",
       "\n",
       "   fbi_code  x_coordinate y_coordinate  year                updated_on  \\\n",
       "0        11          None         None  2015 2017-08-03 15:52:36+00:00   \n",
       "1        02          None         None  2004 2015-08-17 15:03:40+00:00   \n",
       "2        11          None         None  2006 2015-08-17 15:03:40+00:00   \n",
       "3        26          None         None  2008 2016-04-15 11:16:05+00:00   \n",
       "4        02          None         None  2007 2015-08-31 15:43:09+00:00   \n",
       "\n",
       "   latitude longitude location  \n",
       "0      None      None     None  \n",
       "1      None      None     None  \n",
       "2      None      None     None  \n",
       "3      None      None     None  \n",
       "4      None      None     None  \n",
       "\n",
       "[5 rows x 22 columns]"
      ]
     },
     "execution_count": 10,
     "metadata": {},
     "output_type": "execute_result"
    }
   ],
   "source": [
    "client.list_rows(table, max_results=5).to_dataframe()"
   ]
  },
  {
   "cell_type": "code",
   "execution_count": 11,
   "metadata": {
    "ExecuteTime": {
     "end_time": "2020-09-14T20:14:46.202132Z",
     "start_time": "2020-09-14T20:14:46.196515Z"
    }
   },
   "outputs": [],
   "source": [
    "# create map of where crimes are located"
   ]
  },
  {
   "cell_type": "markdown",
   "metadata": {},
   "source": [
    "# Running Queries"
   ]
  },
  {
   "cell_type": "markdown",
   "metadata": {},
   "source": [
    "We'll begin by selecting only crimes which happened at a residential location. But first, we have to keep in mind that many datasets are massive and there can be limits set by your organization. We can first do a \"dry run\" of the query to see how much data is processed. "
   ]
  },
  {
   "cell_type": "code",
   "execution_count": 19,
   "metadata": {
    "ExecuteTime": {
     "end_time": "2020-09-14T20:34:39.067830Z",
     "start_time": "2020-09-14T20:34:38.162172Z"
    }
   },
   "outputs": [
    {
     "name": "stdout",
     "output_type": "stream",
     "text": [
      "This query will process 180619748 bytes.\n"
     ]
    }
   ],
   "source": [
    "query = \"\"\"\n",
    "        SELECT primary_type\n",
    "        FROM bigquery-public-data.chicago_crime.crime\n",
    "        WHERE location_description = 'RESIDENCE'\n",
    "        \"\"\"\n",
    "\n",
    "#Configuring dry run rules for query\n",
    "dry_run_config = bigquery.QueryJobConfig(dry_run=True)\n",
    "\n",
    "dry_run_query_job = client.query(query, job_config=dry_run_config)\n",
    "\n",
    "print(f\"This query will process {dry_run_query_job.total_bytes_processed} bytes.\")"
   ]
  },
  {
   "cell_type": "markdown",
   "metadata": {},
   "source": [
    "The next cell will then set a limit to keep our query in the safe zone by calling for a one gigabyte limit. "
   ]
  },
  {
   "cell_type": "code",
   "execution_count": 17,
   "metadata": {
    "ExecuteTime": {
     "end_time": "2020-09-14T20:26:43.031286Z",
     "start_time": "2020-09-14T20:26:21.221915Z"
    }
   },
   "outputs": [
    {
     "name": "stdout",
     "output_type": "stream",
     "text": [
      "                 primary_type\n",
      "0          DECEPTIVE PRACTICE\n",
      "1         CRIM SEXUAL ASSAULT\n",
      "2               OTHER OFFENSE\n",
      "3  OFFENSE INVOLVING CHILDREN\n",
      "4  OFFENSE INVOLVING CHILDREN\n"
     ]
    }
   ],
   "source": [
    "# Configuring byte limit\n",
    "safe_config = bigquery.QueryJobConfig(maximum_bytes_billed=10**10)\n",
    "\n",
    "query_job = client.query(query, job_config=safe_config)\n",
    "\n",
    "# Putting results into a dataframe\n",
    "results = query_job.to_dataframe()\n",
    "\n",
    "print(results.head())"
   ]
  },
  {
   "cell_type": "code",
   "execution_count": 18,
   "metadata": {
    "ExecuteTime": {
     "end_time": "2020-09-14T20:28:20.127186Z",
     "start_time": "2020-09-14T20:28:20.119648Z"
    }
   },
   "outputs": [
    {
     "data": {
      "text/plain": [
       "1218321"
      ]
     },
     "execution_count": 18,
     "metadata": {},
     "output_type": "execute_result"
    }
   ],
   "source": [
    "len(results)"
   ]
  },
  {
   "cell_type": "markdown",
   "metadata": {},
   "source": [
    "Now let's count how many of each type of crime occurred at residential properties and show from highest count to lowest. Notice the alias for the 'count' column."
   ]
  },
  {
   "cell_type": "code",
   "execution_count": 25,
   "metadata": {
    "ExecuteTime": {
     "end_time": "2020-09-14T21:28:36.357181Z",
     "start_time": "2020-09-14T21:28:34.806136Z"
    }
   },
   "outputs": [
    {
     "name": "stdout",
     "output_type": "stream",
     "text": [
      "      primary_type   count\n",
      "0          BATTERY  275934\n",
      "1    OTHER OFFENSE  202988\n",
      "2            THEFT  157532\n",
      "3  CRIMINAL DAMAGE  154930\n",
      "4         BURGLARY  137762\n"
     ]
    }
   ],
   "source": [
    "query2 = \"\"\"\n",
    "        SELECT primary_type, COUNT(primary_type) AS count\n",
    "        FROM bigquery-public-data.chicago_crime.crime\n",
    "        WHERE location_description = 'RESIDENCE'\n",
    "        GROUP BY primary_type\n",
    "        ORDER BY count desc\n",
    "        \"\"\"\n",
    "# Using the safe configuration again\n",
    "query2_job = client.query(query2, job_config=safe_config)\n",
    "\n",
    "results2 = query2_job.to_dataframe()\n",
    "\n",
    "print(results2.head())"
   ]
  },
  {
   "cell_type": "markdown",
   "metadata": {},
   "source": [
    "Let's see which types of crimes occured less than 1000 times with the HAVING clause."
   ]
  },
  {
   "cell_type": "code",
   "execution_count": 26,
   "metadata": {
    "ExecuteTime": {
     "end_time": "2020-09-14T21:32:36.578352Z",
     "start_time": "2020-09-14T21:32:34.578058Z"
    }
   },
   "outputs": [
    {
     "name": "stdout",
     "output_type": "stream",
     "text": [
      "                       primary_type  count\n",
      "0                      PROSTITUTION    595\n",
      "1           CRIMINAL SEXUAL ASSAULT    537\n",
      "2  INTERFERENCE WITH PUBLIC OFFICER    486\n",
      "3                         OBSCENITY    309\n",
      "4              LIQUOR LAW VIOLATION    276\n"
     ]
    }
   ],
   "source": [
    "query3 = \"\"\"\n",
    "        SELECT primary_type, COUNT(primary_type) AS count\n",
    "        FROM bigquery-public-data.chicago_crime.crime\n",
    "        WHERE location_description = 'RESIDENCE'\n",
    "        GROUP BY primary_type\n",
    "        HAVING count < 1000\n",
    "        ORDER BY count desc\n",
    "        \"\"\"\n",
    "# Using the safe configuration again\n",
    "query3_job = client.query(query3, job_config=safe_config)\n",
    "\n",
    "results3 = query3_job.to_dataframe()\n",
    "\n",
    "print(results3.head())"
   ]
  },
  {
   "cell_type": "markdown",
   "metadata": {},
   "source": [
    "We can also combine two functions, WITH and AS to form a common table expression, so we can refer back to the query and query them further. Keep in mind that they only exist in the query and cannot be referenced outside. Example: "
   ]
  },
  {
   "cell_type": "code",
   "execution_count": 29,
   "metadata": {
    "ExecuteTime": {
     "end_time": "2020-09-14T21:40:21.955691Z",
     "start_time": "2020-09-14T21:40:19.481474Z"
    }
   },
   "outputs": [
    {
     "name": "stdout",
     "output_type": "stream",
     "text": [
      "                       primary_type\n",
      "0                      PROSTITUTION\n",
      "1           CRIMINAL SEXUAL ASSAULT\n",
      "2  INTERFERENCE WITH PUBLIC OFFICER\n",
      "3                         OBSCENITY\n",
      "4              LIQUOR LAW VIOLATION\n"
     ]
    }
   ],
   "source": [
    "query4 = \"\"\"\n",
    "        WITH uncommon_crimes AS\n",
    "        (\n",
    "        SELECT primary_type, COUNT(primary_type) AS count\n",
    "        FROM bigquery-public-data.chicago_crime.crime\n",
    "        WHERE location_description = 'RESIDENCE'\n",
    "        GROUP BY primary_type\n",
    "        HAVING count < 1000\n",
    "        ORDER BY count desc\n",
    "        )\n",
    "        SELECT primary_type \n",
    "        FROM uncommon_crimes\n",
    "        \"\"\"\n",
    "query4_job = client.query(query4, job_config=safe_config)\n",
    "\n",
    "results4 = query4_job.to_dataframe()\n",
    "\n",
    "print(results4.head())"
   ]
  },
  {
   "cell_type": "markdown",
   "metadata": {},
   "source": [
    "We can also quickly plot the query by using matplotlib."
   ]
  },
  {
   "cell_type": "code",
   "execution_count": 43,
   "metadata": {
    "ExecuteTime": {
     "end_time": "2020-09-14T21:51:22.046583Z",
     "start_time": "2020-09-14T21:51:21.224270Z"
    }
   },
   "outputs": [
    {
     "data": {
      "image/png": "[encoded data removed]",
      "text/plain": [
       "<Figure size 432x288 with 1 Axes>"
      ]
     },
     "metadata": {
      "needs_background": "light"
     },
     "output_type": "display_data"
    }
   ],
   "source": [
    "import matplotlib.pyplot as plt\n",
    "plt.barh(results3['primary_type'], results3['count'])\n",
    "plt.yticks( rotation='horizontal')\n",
    "plt.title(\"Uncommon Crimes by Count\");"
   ]
  },
  {
   "cell_type": "markdown",
   "metadata": {},
   "source": [
    "# More Complexity with Subqueries, CASE Clause, and Correlated Subqueries"
   ]
  },
  {
   "cell_type": "markdown",
   "metadata": {
    "cell_style": "center"
   },
   "source": [
    "As I've exhausted the resources at Kaggle, I'll move on to a Udemy course that I completed earlier this year and want to brush up on. I'll be applying the concepts I learned in the <a href= \"https://www.udemy.com/course/master-sql-for-data-science/\">Master SQL FOR Data Science</a> course on Google BigQuery's Stackoverflow dataset. "
   ]
  },
  {
   "cell_type": "code",
   "execution_count": 64,
   "metadata": {
    "ExecuteTime": {
     "end_time": "2020-09-14T22:38:29.927177Z",
     "start_time": "2020-09-14T22:38:29.362430Z"
    }
   },
   "outputs": [],
   "source": [
    "# Reference to the dataset\n",
    "stackoverflow_dataset_ref = client.dataset(\"stackoverflow\", project=\"bigquery-public-data\")\n",
    "\n",
    "# API request\n",
    "stackoverflow_dataset = client.get_dataset(stackoverflow_dataset_ref)"
   ]
  },
  {
   "cell_type": "code",
   "execution_count": 65,
   "metadata": {
    "ExecuteTime": {
     "end_time": "2020-09-14T22:38:30.072736Z",
     "start_time": "2020-09-14T22:38:29.932287Z"
    }
   },
   "outputs": [
    {
     "name": "stdout",
     "output_type": "stream",
     "text": [
      "Num. of tables: 16\n",
      "badges\n",
      "comments\n",
      "post_history\n",
      "post_links\n",
      "posts_answers\n",
      "posts_moderator_nomination\n",
      "posts_orphaned_tag_wiki\n",
      "posts_privilege_wiki\n",
      "posts_questions\n",
      "posts_tag_wiki\n",
      "posts_tag_wiki_excerpt\n",
      "posts_wiki_placeholder\n",
      "stackoverflow_posts\n",
      "tags\n",
      "users\n",
      "votes\n"
     ]
    }
   ],
   "source": [
    "# Getting the list of tables\n",
    "tables = list(client.list_tables(stackoverflow_dataset))\n",
    "print(\"Num. of tables:\", len(tables))\n",
    "for table in tables:\n",
    "    print(table.table_id)"
   ]
  },
  {
   "cell_type": "markdown",
   "metadata": {},
   "source": [
    "Let's take a deeper dive into the schemas of a couple of the tables."
   ]
  },
  {
   "cell_type": "code",
   "execution_count": 66,
   "metadata": {
    "ExecuteTime": {
     "end_time": "2020-09-14T22:38:32.985779Z",
     "start_time": "2020-09-14T22:38:32.693099Z"
    }
   },
   "outputs": [],
   "source": [
    "# Referencing the broadcast and file_record tables\n",
    "comments_ref = stackoverflow_dataset_ref.table(\"comments\")\n",
    "post_history_ref = stackoverflow_dataset_ref.table('post_history')\n",
    "\n",
    "# API requests\n",
    "comments = client.get_table(comments_ref)\n",
    "post_history = client.get_table(post_history_ref)"
   ]
  },
  {
   "cell_type": "code",
   "execution_count": 67,
   "metadata": {
    "ExecuteTime": {
     "end_time": "2020-09-14T22:38:34.374973Z",
     "start_time": "2020-09-14T22:38:34.367095Z"
    }
   },
   "outputs": [
    {
     "data": {
      "text/plain": [
       "[SchemaField('id', 'INTEGER', 'NULLABLE', None, (), None),\n",
       " SchemaField('text', 'STRING', 'NULLABLE', None, (), None),\n",
       " SchemaField('creation_date', 'TIMESTAMP', 'NULLABLE', None, (), None),\n",
       " SchemaField('post_id', 'INTEGER', 'NULLABLE', None, (), None),\n",
       " SchemaField('user_id', 'INTEGER', 'NULLABLE', None, (), None),\n",
       " SchemaField('user_display_name', 'STRING', 'NULLABLE', None, (), None),\n",
       " SchemaField('score', 'INTEGER', 'NULLABLE', None, (), None)]"
      ]
     },
     "execution_count": 67,
     "metadata": {},
     "output_type": "execute_result"
    }
   ],
   "source": [
    "comments.schema"
   ]
  },
  {
   "cell_type": "code",
   "execution_count": 69,
   "metadata": {
    "ExecuteTime": {
     "end_time": "2020-09-14T22:38:44.124603Z",
     "start_time": "2020-09-14T22:38:44.116660Z"
    }
   },
   "outputs": [
    {
     "data": {
      "text/plain": [
       "[SchemaField('id', 'INTEGER', 'NULLABLE', None, (), None),\n",
       " SchemaField('creation_date', 'TIMESTAMP', 'NULLABLE', None, (), None),\n",
       " SchemaField('post_id', 'INTEGER', 'NULLABLE', None, (), None),\n",
       " SchemaField('post_history_type_id', 'INTEGER', 'NULLABLE', None, (), None),\n",
       " SchemaField('revision_guid', 'STRING', 'NULLABLE', None, (), None),\n",
       " SchemaField('user_id', 'INTEGER', 'NULLABLE', None, (), None),\n",
       " SchemaField('text', 'STRING', 'NULLABLE', None, (), None),\n",
       " SchemaField('comment', 'STRING', 'NULLABLE', None, (), None)]"
      ]
     },
     "execution_count": 69,
     "metadata": {},
     "output_type": "execute_result"
    }
   ],
   "source": [
    "post_history.schema"
   ]
  },
  {
   "cell_type": "code",
   "execution_count": null,
   "metadata": {},
   "outputs": [],
   "source": []
  }
 ],
 "metadata": {
  "kernelspec": {
   "display_name": "Python [conda env:anaconda3]",
   "language": "python",
   "name": "conda-env-anaconda3-py"
  },
  "language_info": {
   "codemirror_mode": {
    "name": "ipython",
    "version": 3
   },
   "file_extension": ".py",
   "mimetype": "text/x-python",
   "name": "python",
   "nbconvert_exporter": "python",
   "pygments_lexer": "ipython3",
   "version": "3.7.6"
  },
  "toc": {
   "base_numbering": 1,
   "nav_menu": {},
   "number_sections": true,
   "sideBar": true,
   "skip_h1_title": false,
   "title_cell": "Table of Contents",
   "title_sidebar": "Contents",
   "toc_cell": false,
   "toc_position": {},
   "toc_section_display": true,
   "toc_window_display": false
  }
 },
 "nbformat": 4,
 "nbformat_minor": 2
}
