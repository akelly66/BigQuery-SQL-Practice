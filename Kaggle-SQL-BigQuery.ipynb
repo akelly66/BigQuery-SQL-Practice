{
 "cells": [
  {
   "cell_type": "markdown",
   "metadata": {},
   "source": [
    "# SQL and BigQuery Practice Notebook\n",
    "\n",
    "The purpose of this notebook is to keep myself sharp when it comes to accessing APIs and examining BigQuery datasets."
   ]
  },
  {
   "cell_type": "markdown",
   "metadata": {},
   "source": [
    "# Connecting to the API"
   ]
  },
  {
   "cell_type": "code",
   "execution_count": 1,
   "metadata": {
    "ExecuteTime": {
     "end_time": "2020-09-17T18:46:13.787514Z",
     "start_time": "2020-09-17T18:46:11.123630Z"
    },
    "scrolled": false
   },
   "outputs": [],
   "source": [
    "from google.cloud import bigquery"
   ]
  },
  {
   "cell_type": "markdown",
   "metadata": {},
   "source": [
    "To begin, we'll need a Google Cloud developer account. I already have one, but in case you need one, you can start one <a href=\"https://console.cloud.google.com/\">here</a>. You'll also need to download <a href=\"https://cloud.google.com/sdk\">Cloud SDK</a>. Once you have access to your Google Cloud developer account, begin a new project, click on the hamburger menu in the upper left corner > IAM & Admin > Service Accounts, then create a service account. Name your project > Create > Continue. Click the name of the service account, and scroll down to Add Key, and create a new key. Choose the JSON option and download the key file into your local project folder. \n",
    "\n",
    "You'll need to provide your credentials from the key file to access the BigQuery database. You can set the credentials on the command line (<a href=\"https://cloud.google.com/docs/authentication/getting-started#auth-cloud-implicit-python\">instructions</a>) but I kept getting errors, so another option is to set it as I did in the cell below."
   ]
  },
  {
   "cell_type": "code",
   "execution_count": 2,
   "metadata": {
    "ExecuteTime": {
     "end_time": "2020-09-17T18:46:13.820617Z",
     "start_time": "2020-09-17T18:46:13.793075Z"
    }
   },
   "outputs": [
    {
     "name": "stdout",
     "output_type": "stream",
     "text": [
      "Credentials from environ: Practice-Project-7d7e549fec37.json\n"
     ]
    }
   ],
   "source": [
    "import os\n",
    "os.environ['GOOGLE_APPLICATION_CREDENTIALS'] = \"Practice-Project-7d7e549fec37.json\"\n",
    "\n",
    "print('Credentials from environ: {}'.format(\n",
    "    os.environ.get('GOOGLE_APPLICATION_CREDENTIALS')))"
   ]
  },
  {
   "cell_type": "code",
   "execution_count": 3,
   "metadata": {
    "ExecuteTime": {
     "end_time": "2020-09-17T18:46:13.886611Z",
     "start_time": "2020-09-17T18:46:13.854130Z"
    }
   },
   "outputs": [],
   "source": [
    "# Creating a client object\n",
    "client = bigquery.Client()"
   ]
  },
  {
   "cell_type": "markdown",
   "metadata": {},
   "source": [
    "This project will use a public dataset of Chicago Crime. We need to refer to the dataset and fetch it with an API request."
   ]
  },
  {
   "cell_type": "code",
   "execution_count": 4,
   "metadata": {
    "ExecuteTime": {
     "end_time": "2020-09-17T18:46:21.827006Z",
     "start_time": "2020-09-17T18:46:13.893017Z"
    }
   },
   "outputs": [],
   "source": [
    "# Reference to the dataset\n",
    "dataset_ref = client.dataset(\"chicago_crime\", project=\"bigquery-public-data\")\n",
    "\n",
    "# API request\n",
    "dataset = client.get_dataset(dataset_ref)"
   ]
  },
  {
   "cell_type": "markdown",
   "metadata": {},
   "source": [
    "Let's check out the tables:"
   ]
  },
  {
   "cell_type": "code",
   "execution_count": 5,
   "metadata": {
    "ExecuteTime": {
     "end_time": "2020-09-17T18:46:21.991971Z",
     "start_time": "2020-09-17T18:46:21.831642Z"
    }
   },
   "outputs": [
    {
     "name": "stdout",
     "output_type": "stream",
     "text": [
      "Num. of tables: 1\n",
      "crime\n"
     ]
    }
   ],
   "source": [
    "tables = list(client.list_tables(dataset))\n",
    "print(\"Num. of tables:\", len(tables))\n",
    "for table in tables:\n",
    "    print(table.table_id)"
   ]
  },
  {
   "cell_type": "markdown",
   "metadata": {},
   "source": [
    "We also need to fetch the tables from the dataset:"
   ]
  },
  {
   "cell_type": "code",
   "execution_count": 6,
   "metadata": {
    "ExecuteTime": {
     "end_time": "2020-09-17T18:46:22.176034Z",
     "start_time": "2020-09-17T18:46:21.999677Z"
    }
   },
   "outputs": [],
   "source": [
    "# Referecing the 'crime' table from the list above\n",
    "table_ref = dataset_ref.table(\"crime\")\n",
    "\n",
    "# API request\n",
    "table = client.get_table(table_ref)"
   ]
  },
  {
   "cell_type": "markdown",
   "metadata": {
    "ExecuteTime": {
     "end_time": "2020-09-14T03:30:58.988293Z",
     "start_time": "2020-09-14T03:30:58.980762Z"
    }
   },
   "source": [
    "Let's check out the schema of the table:"
   ]
  },
  {
   "cell_type": "code",
   "execution_count": 7,
   "metadata": {
    "ExecuteTime": {
     "end_time": "2020-09-17T18:46:22.205818Z",
     "start_time": "2020-09-17T18:46:22.181577Z"
    },
    "scrolled": true
   },
   "outputs": [
    {
     "data": {
      "text/plain": [
       "[SchemaField('unique_key', 'INTEGER', 'REQUIRED', 'Unique identifier for the record.', (), None),\n",
       " SchemaField('case_number', 'STRING', 'NULLABLE', 'The Chicago Police Department RD Number (Records Division Number), which is unique to the incident.', (), None),\n",
       " SchemaField('date', 'TIMESTAMP', 'NULLABLE', 'Date when the incident occurred. this is sometimes a best estimate.', (), None),\n",
       " SchemaField('block', 'STRING', 'NULLABLE', 'The partially redacted address where the incident occurred, placing it on the same block as the actual address.', (), None),\n",
       " SchemaField('iucr', 'STRING', 'NULLABLE', 'The Illinois Unifrom Crime Reporting code. This is directly linked to the Primary Type and Description. See the list of IUCR codes at https://data.cityofchicago.org/d/c7ck-438e.', (), None),\n",
       " SchemaField('primary_type', 'STRING', 'NULLABLE', 'The primary description of the IUCR code.', (), None),\n",
       " SchemaField('description', 'STRING', 'NULLABLE', 'The secondary description of the IUCR code, a subcategory of the primary description.', (), None),\n",
       " SchemaField('location_description', 'STRING', 'NULLABLE', 'Description of the location where the incident occurred.', (), None),\n",
       " SchemaField('arrest', 'BOOLEAN', 'NULLABLE', 'Indicates whether an arrest was made.', (), None),\n",
       " SchemaField('domestic', 'BOOLEAN', 'NULLABLE', 'Indicates whether the incident was domestic-related as defined by the Illinois Domestic Violence Act.', (), None),\n",
       " SchemaField('beat', 'INTEGER', 'NULLABLE', 'Indicates the beat where the incident occurred. A beat is the smallest police geographic area – each beat has a dedicated police beat car. Three to five beats make up a police sector, and three sectors make up a police district. The Chicago Police Department has 22 police districts. See the beats at https://data.cityofchicago.org/d/aerh-rz74.', (), None),\n",
       " SchemaField('district', 'INTEGER', 'NULLABLE', 'Indicates the police district where the incident occurred. See the districts at https://data.cityofchicago.org/d/fthy-xz3r.', (), None),\n",
       " SchemaField('ward', 'INTEGER', 'NULLABLE', 'The ward (City Council district) where the incident occurred. See the wards at https://data.cityofchicago.org/d/sp34-6z76.', (), None),\n",
       " SchemaField('community_area', 'INTEGER', 'NULLABLE', 'Indicates the community area where the incident occurred. Chicago has 77 community areas. See the community areas at https://data.cityofchicago.org/d/cauq-8yn6.', (), None),\n",
       " SchemaField('fbi_code', 'STRING', 'NULLABLE', \"Indicates the crime classification as outlined in the FBI's National Incident-Based Reporting System (NIBRS). See the Chicago Police Department listing of these classifications at http://gis.chicagopolice.org/clearmap_crime_sums/crime_types.html.\", (), None),\n",
       " SchemaField('x_coordinate', 'FLOAT', 'NULLABLE', 'The x coordinate of the location where the incident occurred in State Plane Illinois East NAD 1983 projection. This location is shifted from the actual location for partial redaction but falls on the same block.', (), None),\n",
       " SchemaField('y_coordinate', 'FLOAT', 'NULLABLE', 'The y coordinate of the location where the incident occurred in State Plane Illinois East NAD 1983 projection. This location is shifted from the actual location for partial redaction but falls on the same block.', (), None),\n",
       " SchemaField('year', 'INTEGER', 'NULLABLE', 'Year the incident occurred.', (), None),\n",
       " SchemaField('updated_on', 'TIMESTAMP', 'NULLABLE', 'Date and time the record was last updated.', (), None),\n",
       " SchemaField('latitude', 'FLOAT', 'NULLABLE', 'The latitude of the location where the incident occurred. This location is shifted from the actual location for partial redaction but falls on the same block.', (), None),\n",
       " SchemaField('longitude', 'FLOAT', 'NULLABLE', 'The longitude of the location where the incident occurred. This location is shifted from the actual location for partial redaction but falls on the same block.', (), None),\n",
       " SchemaField('location', 'STRING', 'NULLABLE', 'The location where the incident occurred in a format that allows for creation of maps and other geographic operations on this data portal. This location is shifted from the actual location for partial redaction but falls on the same block.', (), None)]"
      ]
     },
     "execution_count": 7,
     "metadata": {},
     "output_type": "execute_result"
    }
   ],
   "source": [
    "table.schema"
   ]
  },
  {
   "cell_type": "markdown",
   "metadata": {},
   "source": [
    "The schema includes the name of the field, the datatype, mode which signifies whether the column allows null values, and a short description of the contents. \n",
    "\n",
    "We can look at the first few rows of the table in a dataframe."
   ]
  },
  {
   "cell_type": "code",
   "execution_count": 69,
   "metadata": {
    "ExecuteTime": {
     "end_time": "2020-09-17T20:39:52.226986Z",
     "start_time": "2020-09-17T20:39:51.769605Z"
    },
    "scrolled": false
   },
   "outputs": [
    {
     "name": "stderr",
     "output_type": "stream",
     "text": [
      "/Users/Allie/opt/anaconda3/lib/python3.7/site-packages/ipykernel_launcher.py:1: UserWarning: Cannot use bqstorage_client if max_results is set, reverting to fetching data with the tabledata.list endpoint.\n",
      "  \"\"\"Entry point for launching an IPython kernel.\n",
      "/Users/Allie/opt/anaconda3/lib/python3.7/site-packages/ipykernel_launcher.py:1: PyarrowMissingWarning: Converting to a dataframe without pyarrow installed is often slower and will become unsupported in the future. Please install the pyarrow package.\n",
      "  \"\"\"Entry point for launching an IPython kernel.\n"
     ]
    },
    {
     "data": {
      "text/html": [
       "<div>\n",
       "<style scoped>\n",
       "    .dataframe tbody tr th:only-of-type {\n",
       "        vertical-align: middle;\n",
       "    }\n",
       "\n",
       "    .dataframe tbody tr th {\n",
       "        vertical-align: top;\n",
       "    }\n",
       "\n",
       "    .dataframe thead th {\n",
       "        text-align: right;\n",
       "    }\n",
       "</style>\n",
       "<table border=\"1\" class=\"dataframe\">\n",
       "  <thead>\n",
       "    <tr style=\"text-align: right;\">\n",
       "      <th></th>\n",
       "      <th>unique_key</th>\n",
       "      <th>case_number</th>\n",
       "      <th>date</th>\n",
       "      <th>block</th>\n",
       "      <th>iucr</th>\n",
       "      <th>primary_type</th>\n",
       "      <th>description</th>\n",
       "      <th>location_description</th>\n",
       "      <th>arrest</th>\n",
       "      <th>domestic</th>\n",
       "      <th>...</th>\n",
       "      <th>ward</th>\n",
       "      <th>community_area</th>\n",
       "      <th>fbi_code</th>\n",
       "      <th>x_coordinate</th>\n",
       "      <th>y_coordinate</th>\n",
       "      <th>year</th>\n",
       "      <th>updated_on</th>\n",
       "      <th>latitude</th>\n",
       "      <th>longitude</th>\n",
       "      <th>location</th>\n",
       "    </tr>\n",
       "  </thead>\n",
       "  <tbody>\n",
       "    <tr>\n",
       "      <th>0</th>\n",
       "      <td>2147136</td>\n",
       "      <td>HH383717</td>\n",
       "      <td>2002-05-20 08:00:00+00:00</td>\n",
       "      <td>031XX S ASHLAND AVE</td>\n",
       "      <td>1563</td>\n",
       "      <td>SEX OFFENSE</td>\n",
       "      <td>CRIMINAL SEXUAL ABUSE</td>\n",
       "      <td>CTA BUS</td>\n",
       "      <td>True</td>\n",
       "      <td>False</td>\n",
       "      <td>...</td>\n",
       "      <td>11</td>\n",
       "      <td>59</td>\n",
       "      <td>17</td>\n",
       "      <td>None</td>\n",
       "      <td>None</td>\n",
       "      <td>2002</td>\n",
       "      <td>2015-08-17 15:03:40+00:00</td>\n",
       "      <td>None</td>\n",
       "      <td>None</td>\n",
       "      <td>None</td>\n",
       "    </tr>\n",
       "    <tr>\n",
       "      <th>1</th>\n",
       "      <td>10536569</td>\n",
       "      <td>HZ280501</td>\n",
       "      <td>2014-01-10 14:00:00+00:00</td>\n",
       "      <td>050XX S ARCHER AVE</td>\n",
       "      <td>1153</td>\n",
       "      <td>DECEPTIVE PRACTICE</td>\n",
       "      <td>FINANCIAL IDENTITY THEFT OVER $ 300</td>\n",
       "      <td>OTHER</td>\n",
       "      <td>False</td>\n",
       "      <td>False</td>\n",
       "      <td>...</td>\n",
       "      <td>14</td>\n",
       "      <td>57</td>\n",
       "      <td>11</td>\n",
       "      <td>None</td>\n",
       "      <td>None</td>\n",
       "      <td>2014</td>\n",
       "      <td>2016-05-27 15:48:00+00:00</td>\n",
       "      <td>None</td>\n",
       "      <td>None</td>\n",
       "      <td>None</td>\n",
       "    </tr>\n",
       "    <tr>\n",
       "      <th>2</th>\n",
       "      <td>10779500</td>\n",
       "      <td>HZ546034</td>\n",
       "      <td>2008-04-01 12:00:00+00:00</td>\n",
       "      <td>064XX S LONG AVE</td>\n",
       "      <td>1153</td>\n",
       "      <td>DECEPTIVE PRACTICE</td>\n",
       "      <td>FINANCIAL IDENTITY THEFT OVER $ 300</td>\n",
       "      <td>OTHER</td>\n",
       "      <td>False</td>\n",
       "      <td>False</td>\n",
       "      <td>...</td>\n",
       "      <td>13</td>\n",
       "      <td>64</td>\n",
       "      <td>11</td>\n",
       "      <td>None</td>\n",
       "      <td>None</td>\n",
       "      <td>2008</td>\n",
       "      <td>2016-12-10 15:49:45+00:00</td>\n",
       "      <td>None</td>\n",
       "      <td>None</td>\n",
       "      <td>None</td>\n",
       "    </tr>\n",
       "    <tr>\n",
       "      <th>3</th>\n",
       "      <td>10481920</td>\n",
       "      <td>HZ221713</td>\n",
       "      <td>2015-08-20 12:00:00+00:00</td>\n",
       "      <td>025XX E 93RD ST</td>\n",
       "      <td>0485</td>\n",
       "      <td>BATTERY</td>\n",
       "      <td>AGGRAVATED OF A CHILD</td>\n",
       "      <td>RESIDENCE</td>\n",
       "      <td>False</td>\n",
       "      <td>True</td>\n",
       "      <td>...</td>\n",
       "      <td>7</td>\n",
       "      <td>48</td>\n",
       "      <td>04B</td>\n",
       "      <td>None</td>\n",
       "      <td>None</td>\n",
       "      <td>2015</td>\n",
       "      <td>2016-04-12 15:48:52+00:00</td>\n",
       "      <td>None</td>\n",
       "      <td>None</td>\n",
       "      <td>None</td>\n",
       "    </tr>\n",
       "    <tr>\n",
       "      <th>4</th>\n",
       "      <td>10427182</td>\n",
       "      <td>HZ164759</td>\n",
       "      <td>2015-11-12 17:00:00+00:00</td>\n",
       "      <td>030XX N NORDICA AVE</td>\n",
       "      <td>1153</td>\n",
       "      <td>DECEPTIVE PRACTICE</td>\n",
       "      <td>FINANCIAL IDENTITY THEFT OVER $ 300</td>\n",
       "      <td>RESIDENCE</td>\n",
       "      <td>False</td>\n",
       "      <td>False</td>\n",
       "      <td>...</td>\n",
       "      <td>36</td>\n",
       "      <td>18</td>\n",
       "      <td>11</td>\n",
       "      <td>None</td>\n",
       "      <td>None</td>\n",
       "      <td>2015</td>\n",
       "      <td>2018-02-09 15:44:29+00:00</td>\n",
       "      <td>None</td>\n",
       "      <td>None</td>\n",
       "      <td>None</td>\n",
       "    </tr>\n",
       "  </tbody>\n",
       "</table>\n",
       "<p>5 rows × 22 columns</p>\n",
       "</div>"
      ],
      "text/plain": [
       "   unique_key case_number                      date                block  \\\n",
       "0     2147136    HH383717 2002-05-20 08:00:00+00:00  031XX S ASHLAND AVE   \n",
       "1    10536569    HZ280501 2014-01-10 14:00:00+00:00   050XX S ARCHER AVE   \n",
       "2    10779500    HZ546034 2008-04-01 12:00:00+00:00     064XX S LONG AVE   \n",
       "3    10481920    HZ221713 2015-08-20 12:00:00+00:00      025XX E 93RD ST   \n",
       "4    10427182    HZ164759 2015-11-12 17:00:00+00:00  030XX N NORDICA AVE   \n",
       "\n",
       "   iucr        primary_type                          description  \\\n",
       "0  1563         SEX OFFENSE                CRIMINAL SEXUAL ABUSE   \n",
       "1  1153  DECEPTIVE PRACTICE  FINANCIAL IDENTITY THEFT OVER $ 300   \n",
       "2  1153  DECEPTIVE PRACTICE  FINANCIAL IDENTITY THEFT OVER $ 300   \n",
       "3  0485             BATTERY                AGGRAVATED OF A CHILD   \n",
       "4  1153  DECEPTIVE PRACTICE  FINANCIAL IDENTITY THEFT OVER $ 300   \n",
       "\n",
       "  location_description  arrest  domestic  ...  ward  community_area  fbi_code  \\\n",
       "0              CTA BUS    True     False  ...    11              59        17   \n",
       "1                OTHER   False     False  ...    14              57        11   \n",
       "2                OTHER   False     False  ...    13              64        11   \n",
       "3            RESIDENCE   False      True  ...     7              48       04B   \n",
       "4            RESIDENCE   False     False  ...    36              18        11   \n",
       "\n",
       "   x_coordinate y_coordinate  year                updated_on  latitude  \\\n",
       "0          None         None  2002 2015-08-17 15:03:40+00:00      None   \n",
       "1          None         None  2014 2016-05-27 15:48:00+00:00      None   \n",
       "2          None         None  2008 2016-12-10 15:49:45+00:00      None   \n",
       "3          None         None  2015 2016-04-12 15:48:52+00:00      None   \n",
       "4          None         None  2015 2018-02-09 15:44:29+00:00      None   \n",
       "\n",
       "  longitude location  \n",
       "0      None     None  \n",
       "1      None     None  \n",
       "2      None     None  \n",
       "3      None     None  \n",
       "4      None     None  \n",
       "\n",
       "[5 rows x 22 columns]"
      ]
     },
     "execution_count": 69,
     "metadata": {},
     "output_type": "execute_result"
    }
   ],
   "source": [
    "chicago_crime_df = client.list_rows(table, max_results=5).to_dataframe()\n",
    "chicago_crime_df.head()"
   ]
  },
  {
   "cell_type": "markdown",
   "metadata": {},
   "source": [
    "# Running Queries"
   ]
  },
  {
   "cell_type": "markdown",
   "metadata": {},
   "source": [
    "We'll begin by selecting only crimes which happened at a residential location. But first, we have to keep in mind that many datasets are massive and there can be limits set by your organization. We can first do a \"dry run\" of the query to see how much data is processed. "
   ]
  },
  {
   "cell_type": "code",
   "execution_count": 10,
   "metadata": {
    "ExecuteTime": {
     "end_time": "2020-09-17T18:46:24.005343Z",
     "start_time": "2020-09-17T18:46:23.433766Z"
    }
   },
   "outputs": [
    {
     "name": "stdout",
     "output_type": "stream",
     "text": [
      "This query will process 180666702 bytes.\n"
     ]
    }
   ],
   "source": [
    "query = \"\"\"\n",
    "        SELECT primary_type\n",
    "        FROM bigquery-public-data.chicago_crime.crime\n",
    "        WHERE location_description = 'RESIDENCE'\n",
    "        \"\"\"\n",
    "\n",
    "#Configuring dry run rules for query\n",
    "dry_run_config = bigquery.QueryJobConfig(dry_run=True)\n",
    "\n",
    "dry_run_query_job = client.query(query, job_config=dry_run_config)\n",
    "\n",
    "print(f\"This query will process {dry_run_query_job.total_bytes_processed} bytes.\")"
   ]
  },
  {
   "cell_type": "markdown",
   "metadata": {},
   "source": [
    "The next cell will then set a limit to keep our query in the safe zone by calling for a one gigabyte limit. "
   ]
  },
  {
   "cell_type": "code",
   "execution_count": 11,
   "metadata": {
    "ExecuteTime": {
     "end_time": "2020-09-17T18:46:47.604726Z",
     "start_time": "2020-09-17T18:46:24.012087Z"
    }
   },
   "outputs": [
    {
     "name": "stdout",
     "output_type": "stream",
     "text": [
      "                 primary_type\n",
      "0          DECEPTIVE PRACTICE\n",
      "1  OFFENSE INVOLVING CHILDREN\n",
      "2               OTHER OFFENSE\n",
      "3          DECEPTIVE PRACTICE\n",
      "4           CRIMINAL TRESPASS\n"
     ]
    }
   ],
   "source": [
    "# Configuring byte limit\n",
    "safe_config = bigquery.QueryJobConfig(maximum_bytes_billed=10**10)\n",
    "\n",
    "query_job = client.query(query, job_config=safe_config)\n",
    "\n",
    "# Putting results into a dataframe\n",
    "results = query_job.to_dataframe()\n",
    "\n",
    "print(results.head())"
   ]
  },
  {
   "cell_type": "code",
   "execution_count": 12,
   "metadata": {
    "ExecuteTime": {
     "end_time": "2020-09-17T18:46:47.657132Z",
     "start_time": "2020-09-17T18:46:47.610684Z"
    }
   },
   "outputs": [
    {
     "data": {
      "text/plain": [
       "1218620"
      ]
     },
     "execution_count": 12,
     "metadata": {},
     "output_type": "execute_result"
    }
   ],
   "source": [
    "len(results)"
   ]
  },
  {
   "cell_type": "markdown",
   "metadata": {},
   "source": [
    "Now let's count how many of each type of crime occurred at residential properties and show from highest count to lowest. Notice the alias for the 'count' column."
   ]
  },
  {
   "cell_type": "code",
   "execution_count": 13,
   "metadata": {
    "ExecuteTime": {
     "end_time": "2020-09-17T18:46:49.367086Z",
     "start_time": "2020-09-17T18:46:47.675140Z"
    }
   },
   "outputs": [
    {
     "name": "stdout",
     "output_type": "stream",
     "text": [
      "      primary_type   count\n",
      "0          BATTERY  276014\n",
      "1    OTHER OFFENSE  203029\n",
      "2            THEFT  157557\n",
      "3  CRIMINAL DAMAGE  154968\n",
      "4         BURGLARY  137775\n"
     ]
    }
   ],
   "source": [
    "query2 = \"\"\"\n",
    "        SELECT primary_type, COUNT(primary_type) AS count\n",
    "        FROM bigquery-public-data.chicago_crime.crime\n",
    "        WHERE location_description = 'RESIDENCE'\n",
    "        GROUP BY primary_type\n",
    "        ORDER BY count desc\n",
    "        \"\"\"\n",
    "# Using the safe configuration again\n",
    "query2_job = client.query(query2, job_config=safe_config)\n",
    "\n",
    "results2 = query2_job.to_dataframe()\n",
    "\n",
    "print(results2.head())"
   ]
  },
  {
   "cell_type": "markdown",
   "metadata": {},
   "source": [
    "Let's see which types of crimes occured less than 1000 times with the HAVING clause."
   ]
  },
  {
   "cell_type": "code",
   "execution_count": 14,
   "metadata": {
    "ExecuteTime": {
     "end_time": "2020-09-17T18:46:51.309348Z",
     "start_time": "2020-09-17T18:46:49.376887Z"
    },
    "scrolled": true
   },
   "outputs": [
    {
     "name": "stdout",
     "output_type": "stream",
     "text": [
      "                       primary_type  count\n",
      "0                      PROSTITUTION    595\n",
      "1           CRIMINAL SEXUAL ASSAULT    539\n",
      "2  INTERFERENCE WITH PUBLIC OFFICER    486\n",
      "3                         OBSCENITY    309\n",
      "4              LIQUOR LAW VIOLATION    276\n"
     ]
    }
   ],
   "source": [
    "query3 = \"\"\"\n",
    "        SELECT primary_type, COUNT(primary_type) AS count\n",
    "        FROM bigquery-public-data.chicago_crime.crime\n",
    "        WHERE location_description = 'RESIDENCE'\n",
    "        GROUP BY primary_type\n",
    "        HAVING count < 1000\n",
    "        ORDER BY count desc\n",
    "        \"\"\"\n",
    "# Using the safe configuration again\n",
    "query3_job = client.query(query3, job_config=safe_config)\n",
    "\n",
    "results3 = query3_job.to_dataframe()\n",
    "\n",
    "print(results3.head())"
   ]
  },
  {
   "cell_type": "markdown",
   "metadata": {},
   "source": [
    "We can also combine two functions, WITH and AS to form a common table expression, so we can refer back to the query and query them further. Keep in mind that they only exist in the query and cannot be referenced outside. Example: "
   ]
  },
  {
   "cell_type": "code",
   "execution_count": 15,
   "metadata": {
    "ExecuteTime": {
     "end_time": "2020-09-17T18:46:53.901902Z",
     "start_time": "2020-09-17T18:46:51.333870Z"
    }
   },
   "outputs": [
    {
     "name": "stdout",
     "output_type": "stream",
     "text": [
      "                       primary_type\n",
      "0                      PROSTITUTION\n",
      "1           CRIMINAL SEXUAL ASSAULT\n",
      "2  INTERFERENCE WITH PUBLIC OFFICER\n",
      "3                         OBSCENITY\n",
      "4              LIQUOR LAW VIOLATION\n"
     ]
    }
   ],
   "source": [
    "query4 = \"\"\"\n",
    "        WITH uncommon_crimes AS\n",
    "        (\n",
    "        SELECT primary_type, COUNT(primary_type) AS count\n",
    "        FROM bigquery-public-data.chicago_crime.crime\n",
    "        WHERE location_description = 'RESIDENCE'\n",
    "        GROUP BY primary_type\n",
    "        HAVING count < 1000\n",
    "        ORDER BY count desc\n",
    "        )\n",
    "        SELECT primary_type \n",
    "        FROM uncommon_crimes\n",
    "        \"\"\"\n",
    "query4_job = client.query(query4, job_config=safe_config)\n",
    "\n",
    "results4 = query4_job.to_dataframe()\n",
    "\n",
    "print(results4.head())"
   ]
  },
  {
   "cell_type": "markdown",
   "metadata": {},
   "source": [
    "We can also quickly plot the query by using matplotlib."
   ]
  },
  {
   "cell_type": "code",
   "execution_count": 17,
   "metadata": {
    "ExecuteTime": {
     "end_time": "2020-09-17T18:47:03.283096Z",
     "start_time": "2020-09-17T18:47:02.812948Z"
    },
    "scrolled": false
   },
   "outputs": [
    {
     "data": {
      "image/png": "[encoded data removed]",
      "text/plain": [
       "<Figure size 432x288 with 1 Axes>"
      ]
     },
     "metadata": {
      "needs_background": "light"
     },
     "output_type": "display_data"
    }
   ],
   "source": [
    "import matplotlib.pyplot as plt\n",
    "plt.barh(results3['primary_type'], results3['count'])\n",
    "plt.yticks( rotation='horizontal')\n",
    "plt.title(\"Uncommon Crimes by Count\");"
   ]
  },
  {
   "cell_type": "markdown",
   "metadata": {},
   "source": [
    "In order to improve my data visualization skills in Tableau, I'm going to select all crimes during 2019 and download into an Excel spreadsheet. "
   ]
  },
  {
   "cell_type": "code",
   "execution_count": 74,
   "metadata": {
    "ExecuteTime": {
     "end_time": "2020-09-17T20:53:11.740114Z",
     "start_time": "2020-09-17T20:51:55.673369Z"
    }
   },
   "outputs": [],
   "source": [
    "# Dates are inclusive in SQL\n",
    "query5 = \"\"\"SELECT * \n",
    "            FROM bigquery-public-data.chicago_crime.crime c\n",
    "            WHERE c.date BETWEEN '2019-01-01' AND '2019-12-31';\"\"\"\n",
    "\n",
    "query5_job = client.query(query5, job_config=safe_config)\n",
    "\n",
    "chicago_crime_df = query5_job.to_dataframe()"
   ]
  },
  {
   "cell_type": "markdown",
   "metadata": {},
   "source": [
    "The datetime objects in the columns 'date' and 'updated_on' contain timezones which aren't allowed in Excel spreadsheets, so we'll remove those. "
   ]
  },
  {
   "cell_type": "code",
   "execution_count": 75,
   "metadata": {
    "ExecuteTime": {
     "end_time": "2020-09-17T20:53:17.394935Z",
     "start_time": "2020-09-17T20:53:11.744798Z"
    }
   },
   "outputs": [],
   "source": [
    "chicago_crime_df['date'] = chicago_crime_df['date'].apply(lambda x: x.strftime('%Y-%m-%d %H:%M:%S'))\n",
    "chicago_crime_df['updated_on'] = chicago_crime_df['updated_on'].apply(lambda x: x.strftime('%Y-%m-%d %H:%M:%S'))"
   ]
  },
  {
   "cell_type": "code",
   "execution_count": 76,
   "metadata": {
    "ExecuteTime": {
     "end_time": "2020-09-17T20:53:17.408106Z",
     "start_time": "2020-09-17T20:53:17.399722Z"
    }
   },
   "outputs": [
    {
     "data": {
      "text/plain": [
       "259525"
      ]
     },
     "execution_count": 76,
     "metadata": {},
     "output_type": "execute_result"
    }
   ],
   "source": [
    "len(chicago_crime_df)"
   ]
  },
  {
   "cell_type": "markdown",
   "metadata": {},
   "source": [
    "Over 250,000 crimes were reported in 2019, not including murder as those crimes are kept separate."
   ]
  },
  {
   "cell_type": "code",
   "execution_count": 78,
   "metadata": {
    "ExecuteTime": {
     "end_time": "2020-09-17T21:27:44.286735Z",
     "start_time": "2020-09-17T21:27:44.172784Z"
    },
    "scrolled": true
   },
   "outputs": [
    {
     "data": {
      "text/html": [
       "<div>\n",
       "<style scoped>\n",
       "    .dataframe tbody tr th:only-of-type {\n",
       "        vertical-align: middle;\n",
       "    }\n",
       "\n",
       "    .dataframe tbody tr th {\n",
       "        vertical-align: top;\n",
       "    }\n",
       "\n",
       "    .dataframe thead th {\n",
       "        text-align: right;\n",
       "    }\n",
       "</style>\n",
       "<table border=\"1\" class=\"dataframe\">\n",
       "  <thead>\n",
       "    <tr style=\"text-align: right;\">\n",
       "      <th></th>\n",
       "      <th>unique_key</th>\n",
       "      <th>case_number</th>\n",
       "      <th>date</th>\n",
       "      <th>block</th>\n",
       "      <th>iucr</th>\n",
       "      <th>primary_type</th>\n",
       "      <th>description</th>\n",
       "      <th>location_description</th>\n",
       "      <th>arrest</th>\n",
       "      <th>domestic</th>\n",
       "      <th>...</th>\n",
       "      <th>ward</th>\n",
       "      <th>community_area</th>\n",
       "      <th>fbi_code</th>\n",
       "      <th>x_coordinate</th>\n",
       "      <th>y_coordinate</th>\n",
       "      <th>year</th>\n",
       "      <th>updated_on</th>\n",
       "      <th>latitude</th>\n",
       "      <th>longitude</th>\n",
       "      <th>location</th>\n",
       "    </tr>\n",
       "  </thead>\n",
       "  <tbody>\n",
       "    <tr>\n",
       "      <th>0</th>\n",
       "      <td>11636912</td>\n",
       "      <td>JC202107</td>\n",
       "      <td>2019-03-26 15:26:00</td>\n",
       "      <td>007XX E 111TH ST</td>\n",
       "      <td>2826</td>\n",
       "      <td>OTHER OFFENSE</td>\n",
       "      <td>HARASSMENT BY ELECTRONIC MEANS</td>\n",
       "      <td>POLICE FACILITY/VEH PARKING LOT</td>\n",
       "      <td>True</td>\n",
       "      <td>True</td>\n",
       "      <td>...</td>\n",
       "      <td>9.0</td>\n",
       "      <td>50</td>\n",
       "      <td>26</td>\n",
       "      <td>1183356.0</td>\n",
       "      <td>1831503.0</td>\n",
       "      <td>2019</td>\n",
       "      <td>2019-06-30 15:56:27</td>\n",
       "      <td>41.692834</td>\n",
       "      <td>-87.604319</td>\n",
       "      <td>(41.692833841, -87.60431945)</td>\n",
       "    </tr>\n",
       "    <tr>\n",
       "      <th>1</th>\n",
       "      <td>11719073</td>\n",
       "      <td>JC301927</td>\n",
       "      <td>2019-04-24 22:30:00</td>\n",
       "      <td>064XX S NARRAGANSETT AVE</td>\n",
       "      <td>0281</td>\n",
       "      <td>CRIM SEXUAL ASSAULT</td>\n",
       "      <td>NON-AGGRAVATED</td>\n",
       "      <td>RESIDENCE</td>\n",
       "      <td>False</td>\n",
       "      <td>False</td>\n",
       "      <td>...</td>\n",
       "      <td>23.0</td>\n",
       "      <td>64</td>\n",
       "      <td>02</td>\n",
       "      <td>1134872.0</td>\n",
       "      <td>1860926.0</td>\n",
       "      <td>2019</td>\n",
       "      <td>2019-06-30 15:56:27</td>\n",
       "      <td>41.774566</td>\n",
       "      <td>-87.781140</td>\n",
       "      <td>(41.774565637, -87.781140173)</td>\n",
       "    </tr>\n",
       "    <tr>\n",
       "      <th>2</th>\n",
       "      <td>11726456</td>\n",
       "      <td>JC311014</td>\n",
       "      <td>2019-06-18 01:30:00</td>\n",
       "      <td>049XX N NORDICA AVE</td>\n",
       "      <td>0554</td>\n",
       "      <td>ASSAULT</td>\n",
       "      <td>AGG PO HANDS NO/MIN INJURY</td>\n",
       "      <td>SIDEWALK</td>\n",
       "      <td>False</td>\n",
       "      <td>False</td>\n",
       "      <td>...</td>\n",
       "      <td>41.0</td>\n",
       "      <td>10</td>\n",
       "      <td>08A</td>\n",
       "      <td>1128606.0</td>\n",
       "      <td>1932315.0</td>\n",
       "      <td>2019</td>\n",
       "      <td>2019-06-30 15:56:27</td>\n",
       "      <td>41.970576</td>\n",
       "      <td>-87.802492</td>\n",
       "      <td>(41.970575996, -87.802492422)</td>\n",
       "    </tr>\n",
       "    <tr>\n",
       "      <th>3</th>\n",
       "      <td>11740399</td>\n",
       "      <td>JC327614</td>\n",
       "      <td>2019-06-29 14:00:00</td>\n",
       "      <td>069XX W DEVON AVE</td>\n",
       "      <td>0630</td>\n",
       "      <td>BURGLARY</td>\n",
       "      <td>ATTEMPT FORCIBLE ENTRY</td>\n",
       "      <td>RESIDENCE</td>\n",
       "      <td>False</td>\n",
       "      <td>False</td>\n",
       "      <td>...</td>\n",
       "      <td>41.0</td>\n",
       "      <td>10</td>\n",
       "      <td>05</td>\n",
       "      <td>1129202.0</td>\n",
       "      <td>1941950.0</td>\n",
       "      <td>2019</td>\n",
       "      <td>2019-07-06 16:09:10</td>\n",
       "      <td>41.997005</td>\n",
       "      <td>-87.800080</td>\n",
       "      <td>(41.997005217, -87.800080263)</td>\n",
       "    </tr>\n",
       "    <tr>\n",
       "      <th>4</th>\n",
       "      <td>11747821</td>\n",
       "      <td>JC336824</td>\n",
       "      <td>2019-07-06 01:20:00</td>\n",
       "      <td>096XX S AVENUE L</td>\n",
       "      <td>0498</td>\n",
       "      <td>BATTERY</td>\n",
       "      <td>AGGRAVATED DOMESTIC BATTERY: HANDS/FIST/FEET S...</td>\n",
       "      <td>RESIDENCE</td>\n",
       "      <td>True</td>\n",
       "      <td>True</td>\n",
       "      <td>...</td>\n",
       "      <td>10.0</td>\n",
       "      <td>52</td>\n",
       "      <td>04B</td>\n",
       "      <td>1201786.0</td>\n",
       "      <td>1841754.0</td>\n",
       "      <td>2019</td>\n",
       "      <td>2019-07-19 16:09:50</td>\n",
       "      <td>41.720516</td>\n",
       "      <td>-87.536498</td>\n",
       "      <td>(41.720515598, -87.536497921)</td>\n",
       "    </tr>\n",
       "  </tbody>\n",
       "</table>\n",
       "<p>5 rows × 22 columns</p>\n",
       "</div>"
      ],
      "text/plain": [
       "   unique_key case_number                 date                     block  \\\n",
       "0    11636912    JC202107  2019-03-26 15:26:00          007XX E 111TH ST   \n",
       "1    11719073    JC301927  2019-04-24 22:30:00  064XX S NARRAGANSETT AVE   \n",
       "2    11726456    JC311014  2019-06-18 01:30:00       049XX N NORDICA AVE   \n",
       "3    11740399    JC327614  2019-06-29 14:00:00         069XX W DEVON AVE   \n",
       "4    11747821    JC336824  2019-07-06 01:20:00          096XX S AVENUE L   \n",
       "\n",
       "   iucr         primary_type  \\\n",
       "0  2826        OTHER OFFENSE   \n",
       "1  0281  CRIM SEXUAL ASSAULT   \n",
       "2  0554              ASSAULT   \n",
       "3  0630             BURGLARY   \n",
       "4  0498              BATTERY   \n",
       "\n",
       "                                         description  \\\n",
       "0                     HARASSMENT BY ELECTRONIC MEANS   \n",
       "1                                     NON-AGGRAVATED   \n",
       "2                         AGG PO HANDS NO/MIN INJURY   \n",
       "3                             ATTEMPT FORCIBLE ENTRY   \n",
       "4  AGGRAVATED DOMESTIC BATTERY: HANDS/FIST/FEET S...   \n",
       "\n",
       "              location_description  arrest  domestic  ...  ward  \\\n",
       "0  POLICE FACILITY/VEH PARKING LOT    True      True  ...   9.0   \n",
       "1                        RESIDENCE   False     False  ...  23.0   \n",
       "2                         SIDEWALK   False     False  ...  41.0   \n",
       "3                        RESIDENCE   False     False  ...  41.0   \n",
       "4                        RESIDENCE    True      True  ...  10.0   \n",
       "\n",
       "   community_area  fbi_code  x_coordinate y_coordinate  year  \\\n",
       "0              50        26     1183356.0    1831503.0  2019   \n",
       "1              64        02     1134872.0    1860926.0  2019   \n",
       "2              10       08A     1128606.0    1932315.0  2019   \n",
       "3              10        05     1129202.0    1941950.0  2019   \n",
       "4              52       04B     1201786.0    1841754.0  2019   \n",
       "\n",
       "            updated_on   latitude  longitude                       location  \n",
       "0  2019-06-30 15:56:27  41.692834 -87.604319   (41.692833841, -87.60431945)  \n",
       "1  2019-06-30 15:56:27  41.774566 -87.781140  (41.774565637, -87.781140173)  \n",
       "2  2019-06-30 15:56:27  41.970576 -87.802492  (41.970575996, -87.802492422)  \n",
       "3  2019-07-06 16:09:10  41.997005 -87.800080  (41.997005217, -87.800080263)  \n",
       "4  2019-07-19 16:09:50  41.720516 -87.536498  (41.720515598, -87.536497921)  \n",
       "\n",
       "[5 rows x 22 columns]"
      ]
     },
     "execution_count": 78,
     "metadata": {},
     "output_type": "execute_result"
    }
   ],
   "source": [
    "chicago_crime_df.head()"
   ]
  },
  {
   "cell_type": "code",
   "execution_count": 91,
   "metadata": {
    "ExecuteTime": {
     "end_time": "2020-09-17T22:05:14.445253Z",
     "start_time": "2020-09-17T22:02:30.502415Z"
    }
   },
   "outputs": [],
   "source": [
    "## Downloading for import into Tableau\n",
    "# chicago_crime_df.to_excel('chicago_crime.xlsx')"
   ]
  },
  {
   "cell_type": "markdown",
   "metadata": {},
   "source": [
    "Here's a sneak peak into the GeoJSON file that I'll use to create a dual axis map, featuring top 5 crimes per neighborhood. "
   ]
  },
  {
   "cell_type": "code",
   "execution_count": 124,
   "metadata": {
    "ExecuteTime": {
     "end_time": "2020-09-18T18:16:06.947495Z",
     "start_time": "2020-09-18T18:16:05.381436Z"
    }
   },
   "outputs": [],
   "source": [
    "import geopandas\n",
    "geojson_df = geopandas.read_file(\"Boundaries - Community Areas (current).geojson\")"
   ]
  },
  {
   "cell_type": "code",
   "execution_count": 125,
   "metadata": {
    "ExecuteTime": {
     "end_time": "2020-09-18T18:16:24.428936Z",
     "start_time": "2020-09-18T18:16:24.378448Z"
    },
    "scrolled": true
   },
   "outputs": [
    {
     "data": {
      "text/html": [
       "<div>\n",
       "<style scoped>\n",
       "    .dataframe tbody tr th:only-of-type {\n",
       "        vertical-align: middle;\n",
       "    }\n",
       "\n",
       "    .dataframe tbody tr th {\n",
       "        vertical-align: top;\n",
       "    }\n",
       "\n",
       "    .dataframe thead th {\n",
       "        text-align: right;\n",
       "    }\n",
       "</style>\n",
       "<table border=\"1\" class=\"dataframe\">\n",
       "  <thead>\n",
       "    <tr style=\"text-align: right;\">\n",
       "      <th></th>\n",
       "      <th>community</th>\n",
       "      <th>area</th>\n",
       "      <th>shape_area</th>\n",
       "      <th>perimeter</th>\n",
       "      <th>area_num_1</th>\n",
       "      <th>area_numbe</th>\n",
       "      <th>comarea_id</th>\n",
       "      <th>comarea</th>\n",
       "      <th>shape_len</th>\n",
       "      <th>geometry</th>\n",
       "    </tr>\n",
       "  </thead>\n",
       "  <tbody>\n",
       "    <tr>\n",
       "      <th>0</th>\n",
       "      <td>DOUGLAS</td>\n",
       "      <td>0</td>\n",
       "      <td>46004621.1581</td>\n",
       "      <td>0</td>\n",
       "      <td>35</td>\n",
       "      <td>35</td>\n",
       "      <td>0</td>\n",
       "      <td>0</td>\n",
       "      <td>31027.0545098</td>\n",
       "      <td>MULTIPOLYGON (((-87.60914 41.84469, -87.60915 ...</td>\n",
       "    </tr>\n",
       "    <tr>\n",
       "      <th>1</th>\n",
       "      <td>OAKLAND</td>\n",
       "      <td>0</td>\n",
       "      <td>16913961.0408</td>\n",
       "      <td>0</td>\n",
       "      <td>36</td>\n",
       "      <td>36</td>\n",
       "      <td>0</td>\n",
       "      <td>0</td>\n",
       "      <td>19565.5061533</td>\n",
       "      <td>MULTIPOLYGON (((-87.59215 41.81693, -87.59231 ...</td>\n",
       "    </tr>\n",
       "    <tr>\n",
       "      <th>2</th>\n",
       "      <td>FULLER PARK</td>\n",
       "      <td>0</td>\n",
       "      <td>19916704.8692</td>\n",
       "      <td>0</td>\n",
       "      <td>37</td>\n",
       "      <td>37</td>\n",
       "      <td>0</td>\n",
       "      <td>0</td>\n",
       "      <td>25339.0897503</td>\n",
       "      <td>MULTIPOLYGON (((-87.62880 41.80189, -87.62879 ...</td>\n",
       "    </tr>\n",
       "    <tr>\n",
       "      <th>3</th>\n",
       "      <td>GRAND BOULEVARD</td>\n",
       "      <td>0</td>\n",
       "      <td>48492503.1554</td>\n",
       "      <td>0</td>\n",
       "      <td>38</td>\n",
       "      <td>38</td>\n",
       "      <td>0</td>\n",
       "      <td>0</td>\n",
       "      <td>28196.8371573</td>\n",
       "      <td>MULTIPOLYGON (((-87.60671 41.81681, -87.60670 ...</td>\n",
       "    </tr>\n",
       "    <tr>\n",
       "      <th>4</th>\n",
       "      <td>KENWOOD</td>\n",
       "      <td>0</td>\n",
       "      <td>29071741.9283</td>\n",
       "      <td>0</td>\n",
       "      <td>39</td>\n",
       "      <td>39</td>\n",
       "      <td>0</td>\n",
       "      <td>0</td>\n",
       "      <td>23325.1679062</td>\n",
       "      <td>MULTIPOLYGON (((-87.59215 41.81693, -87.59215 ...</td>\n",
       "    </tr>\n",
       "  </tbody>\n",
       "</table>\n",
       "</div>"
      ],
      "text/plain": [
       "         community area     shape_area perimeter area_num_1 area_numbe  \\\n",
       "0          DOUGLAS    0  46004621.1581         0         35         35   \n",
       "1          OAKLAND    0  16913961.0408         0         36         36   \n",
       "2      FULLER PARK    0  19916704.8692         0         37         37   \n",
       "3  GRAND BOULEVARD    0  48492503.1554         0         38         38   \n",
       "4          KENWOOD    0  29071741.9283         0         39         39   \n",
       "\n",
       "  comarea_id comarea      shape_len  \\\n",
       "0          0       0  31027.0545098   \n",
       "1          0       0  19565.5061533   \n",
       "2          0       0  25339.0897503   \n",
       "3          0       0  28196.8371573   \n",
       "4          0       0  23325.1679062   \n",
       "\n",
       "                                            geometry  \n",
       "0  MULTIPOLYGON (((-87.60914 41.84469, -87.60915 ...  \n",
       "1  MULTIPOLYGON (((-87.59215 41.81693, -87.59231 ...  \n",
       "2  MULTIPOLYGON (((-87.62880 41.80189, -87.62879 ...  \n",
       "3  MULTIPOLYGON (((-87.60671 41.81681, -87.60670 ...  \n",
       "4  MULTIPOLYGON (((-87.59215 41.81693, -87.59215 ...  "
      ]
     },
     "execution_count": 125,
     "metadata": {},
     "output_type": "execute_result"
    }
   ],
   "source": [
    "geojson_df.head()"
   ]
  },
  {
   "cell_type": "code",
   "execution_count": 131,
   "metadata": {
    "ExecuteTime": {
     "end_time": "2020-09-18T18:41:05.050442Z",
     "start_time": "2020-09-18T18:41:05.016780Z"
    }
   },
   "outputs": [
    {
     "data": {
      "text/html": [
       "<script type='text/javascript' src='https://prod-useast-a.online.tableau.com/javascripts/api/viz_v1.js'></script><div class='tableauPlaceholder' style='width: 1366px; height: 635px;'><object class='tableauViz' width='1366' height='635' style='display:none;'><param name='host_url' value='https%3A%2F%2Fprod-useast-a.online.tableau.com%2F' /> <param name='embed_code_version' value='3' /> <param name='site_root' value='&#47;t&#47;allisonkellystestsite' /><param name='name' value='Book4&#47;Sheet2&#47;allisonkelly42@gmail.com&#47;42b5ea84-b60b-4e11-9020-36e6188e6128' /><param name='tabs' value='no' /><param name='toolbar' value='yes' /><param name='showAppBanner' value='false' /></object></div>\n"
      ],
      "text/plain": [
       "<IPython.core.display.HTML object>"
      ]
     },
     "metadata": {},
     "output_type": "display_data"
    }
   ],
   "source": [
    "# Embedding Tableau Worksheet\n",
    "%%HTML\n",
    "<script type='text/javascript' src='https://prod-useast-a.online.tableau.com/javascripts/api/viz_v1.js'></script>\n",
    "<div class='tableauPlaceholder' style='width: 1366px; height: 635px;'>\n",
    "<object class='tableauViz' width='1366' height='635' style='display:none;'>\n",
    "<param name='host_url' value='https%3A%2F%2Fprod-useast-a.online.tableau.com%2F' /> \n",
    "<param name='embed_code_version' value='3' /> \n",
    "<param name='site_root' value='&#47;t&#47;allisonkellystestsite' />\n",
    "<param name='name' value='Book4&#47;Sheet2&#47;allisonkelly42@gmail.com&#47;42b5ea84-b60b-4e11-9020-36e6188e6128' />\n",
    "<param name='tabs' value='no' />\n",
    "<param name='toolbar' value='yes' />\n",
    "<param name='showAppBanner' value='false' />\n",
    "</object>\n",
    "</div>"
   ]
  },
  {
   "cell_type": "markdown",
   "metadata": {},
   "source": [
    "# More Complexity with Subqueries, CASE Clause, and Correlated Subqueries"
   ]
  },
  {
   "cell_type": "markdown",
   "metadata": {
    "cell_style": "center"
   },
   "source": [
    "As I've exhausted the resources at Kaggle, I'll move on to a Udemy course that I completed earlier this year and want to brush up on. I'll be applying the concepts I learned in the <a href=\"https://www.udemy.com/course/master-sql-for-data-science/\"> Master SQL FOR Data Science</a> course on Google BigQuery's Stackoverflow dataset. "
   ]
  },
  {
   "cell_type": "code",
   "execution_count": null,
   "metadata": {
    "ExecuteTime": {
     "end_time": "2020-09-17T18:46:54.808101Z",
     "start_time": "2020-09-17T18:46:11.183Z"
    }
   },
   "outputs": [],
   "source": [
    "# Reference to the dataset\n",
    "stackoverflow_dataset_ref = client.dataset(\"stackoverflow\", project=\"bigquery-public-data\")\n",
    "\n",
    "# API request\n",
    "stackoverflow_dataset = client.get_dataset(stackoverflow_dataset_ref)"
   ]
  },
  {
   "cell_type": "code",
   "execution_count": null,
   "metadata": {
    "ExecuteTime": {
     "end_time": "2020-09-17T18:46:54.814045Z",
     "start_time": "2020-09-17T18:46:11.186Z"
    }
   },
   "outputs": [],
   "source": [
    "# Getting the list of tables\n",
    "tables = list(client.list_tables(stackoverflow_dataset))\n",
    "print(\"Num. of tables:\", len(tables))\n",
    "for table in tables:\n",
    "    print(table.table_id)"
   ]
  },
  {
   "cell_type": "markdown",
   "metadata": {},
   "source": [
    "Let's take a deeper dive into the schemas of a couple of the tables."
   ]
  },
  {
   "cell_type": "code",
   "execution_count": null,
   "metadata": {
    "ExecuteTime": {
     "end_time": "2020-09-17T18:46:54.817344Z",
     "start_time": "2020-09-17T18:46:11.188Z"
    }
   },
   "outputs": [],
   "source": [
    "# Referencing the broadcast and file_record tables\n",
    "comments_ref = stackoverflow_dataset_ref.table(\"comments\")\n",
    "post_history_ref = stackoverflow_dataset_ref.table('post_history')\n",
    "\n",
    "# API requests\n",
    "comments = client.get_table(comments_ref)\n",
    "post_history = client.get_table(post_history_ref)"
   ]
  },
  {
   "cell_type": "code",
   "execution_count": null,
   "metadata": {
    "ExecuteTime": {
     "end_time": "2020-09-17T18:46:54.825025Z",
     "start_time": "2020-09-17T18:46:11.192Z"
    }
   },
   "outputs": [],
   "source": [
    "comments.schema"
   ]
  },
  {
   "cell_type": "code",
   "execution_count": null,
   "metadata": {
    "ExecuteTime": {
     "end_time": "2020-09-17T18:46:54.833224Z",
     "start_time": "2020-09-17T18:46:11.195Z"
    }
   },
   "outputs": [],
   "source": [
    "post_history.schema"
   ]
  },
  {
   "cell_type": "code",
   "execution_count": null,
   "metadata": {
    "ExecuteTime": {
     "end_time": "2020-09-17T18:46:54.852512Z",
     "start_time": "2020-09-17T18:46:11.198Z"
    }
   },
   "outputs": [],
   "source": [
    "users_who_dont_comment = \"\"\"\n",
    "        SELECT DISTINCT user_id\n",
    "        FROM bigquery-public-data.stackoverflow.comments\n",
    "        LIMIT 1000\n",
    "        \"\"\"\n",
    "users_who_dont_comment_job = client.query(users_who_dont_comment, job_config=safe_config)\n",
    "\n",
    "users_who_dont_comment_results = users_who_dont_comment_job.to_dataframe()\n",
    "\n",
    "print(users_who_dont_comment_results.head())"
   ]
  },
  {
   "cell_type": "code",
   "execution_count": null,
   "metadata": {},
   "outputs": [],
   "source": []
  }
 ],
 "metadata": {
  "kernelspec": {
   "display_name": "Python [conda env:anaconda3]",
   "language": "python",
   "name": "conda-env-anaconda3-py"
  },
  "language_info": {
   "codemirror_mode": {
    "name": "ipython",
    "version": 3
   },
   "file_extension": ".py",
   "mimetype": "text/x-python",
   "name": "python",
   "nbconvert_exporter": "python",
   "pygments_lexer": "ipython3",
   "version": "3.7.6"
  },
  "toc": {
   "base_numbering": 1,
   "nav_menu": {},
   "number_sections": true,
   "sideBar": true,
   "skip_h1_title": false,
   "title_cell": "Table of Contents",
   "title_sidebar": "Contents",
   "toc_cell": false,
   "toc_position": {},
   "toc_section_display": true,
   "toc_window_display": false
  }
 },
 "nbformat": 4,
 "nbformat_minor": 2
}
